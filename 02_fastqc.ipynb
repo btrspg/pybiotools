{
 "cells": [
  {
   "cell_type": "code",
   "execution_count": null,
   "metadata": {},
   "outputs": [],
   "source": [
    "# default_exp softwares.fastq.fastqc"
   ]
  },
  {
   "cell_type": "markdown",
   "metadata": {},
   "source": [
    "# fastqc"
   ]
  },
  {
   "cell_type": "code",
   "execution_count": null,
   "metadata": {},
   "outputs": [],
   "source": [
    "# export\n",
    "\n",
    "from pybiotools.softwares.base import Base, modify_cmd\n"
   ]
  },
  {
   "cell_type": "code",
   "execution_count": null,
   "metadata": {},
   "outputs": [],
   "source": [
    "# export\n",
    "\n",
    "class Fastqc(Base):\n",
    "    def __init__(self, software, fd):\n",
    "        super(Fastqc, self).__init__(software)\n",
    "        self._default = fd\n",
    "        \n",
    "    \n",
    "    def cmd_version(self):\n",
    "        '''\n",
    "\n",
    "        :return:\n",
    "        '''\n",
    "        return 'echo {repr} ;{software} -v'.format(\n",
    "            repr=self.__repr__(),\n",
    "            software=self._software\n",
    "        )\n",
    "\n",
    "    @modify_cmd\n",
    "    def cmd_fastqc_stat(self, outdir, fq1, fq2=''):\n",
    "        '''\n",
    "\n",
    "        :param outdir:\n",
    "        :param fq1:\n",
    "        :param fq2:\n",
    "        :return:\n",
    "        '''\n",
    "        return r'''\n",
    "{software} {default} \\\n",
    "        -o {outdir} \\\n",
    "        {fq1} {fq2}      \n",
    "        '''.format(\n",
    "            default=self._default['default'],\n",
    "            software=self._software,\n",
    "            **locals()\n",
    "        )\n",
    "\n",
    "    def __repr__(self):\n",
    "        return 'fastqc:' + self._software\n",
    "\n",
    "    def __str__(self):\n",
    "        return 'A quality control tool for high throughput sequence data.'"
   ]
  },
  {
   "cell_type": "code",
   "execution_count": null,
   "metadata": {},
   "outputs": [
    {
     "data": {
      "text/plain": [
       "fastqc:fastqc"
      ]
     },
     "execution_count": null,
     "metadata": {},
     "output_type": "execute_result"
    }
   ],
   "source": [
    "import configparser\n",
    "\n",
    "config=configparser.ConfigParser()\n",
    "config.read('pybiotools/default.ini')\n",
    "fastqc=Fastqc('fastqc',config['fastqc'])\n",
    "fastqc"
   ]
  },
  {
   "cell_type": "code",
   "execution_count": null,
   "metadata": {},
   "outputs": [
    {
     "name": "stdout",
     "output_type": "stream",
     "text": [
      "A quality control tool for high throughput sequence data.\n"
     ]
    }
   ],
   "source": [
    "print(fastqc)"
   ]
  },
  {
   "cell_type": "code",
   "execution_count": null,
   "metadata": {},
   "outputs": [
    {
     "name": "stdout",
     "output_type": "stream",
     "text": [
      "echo fastqc:fastqc ;fastqc -v\n"
     ]
    }
   ],
   "source": [
    "print(fastqc.cmd_version())"
   ]
  },
  {
   "cell_type": "code",
   "execution_count": null,
   "metadata": {},
   "outputs": [
    {
     "name": "stdout",
     "output_type": "stream",
     "text": [
      "\n",
      "fastqc -t 5 \\\n",
      "        -o ./pybiotools/ \\\n",
      "        ./biology-test-data/fastq/HS.22.r1.fq.gz ./biology-test-data/fastq/HS.22.r2.fq.gz      \n",
      "        \n"
     ]
    }
   ],
   "source": [
    "fq1='./biology-test-data/fastq/HS.22.r1.fq.gz'\n",
    "fq2='./biology-test-data/fastq/HS.22.r2.fq.gz'\n",
    "outdir='./pybiotools/'\n",
    "\n",
    "print(fastqc.cmd_fastqc_stat(outdir, fq1, fq2))"
   ]
  },
  {
   "cell_type": "code",
   "execution_count": null,
   "metadata": {},
   "outputs": [
    {
     "name": "stdout",
     "output_type": "stream",
     "text": [
      "\n",
      "fastqc -t 5 \\\n",
      "        -o ./pybiotools/ \\\n",
      "        ./pybiotools/HS_22_clean_r1.fq.gz       \n",
      "        \n"
     ]
    }
   ],
   "source": [
    "cfq1='./pybiotools/HS_22_clean_r1.fq.gz'\n",
    "print(fastqc.cmd_fastqc_stat(outdir, cfq1, ''))"
   ]
  },
  {
   "cell_type": "code",
   "execution_count": null,
   "metadata": {},
   "outputs": [],
   "source": []
  },
  {
   "cell_type": "code",
   "execution_count": null,
   "metadata": {},
   "outputs": [],
   "source": []
  }
 ],
 "metadata": {
  "kernelspec": {
   "display_name": "Python 3",
   "language": "python",
   "name": "python3"
  },
  "language_info": {
   "codemirror_mode": {
    "name": "ipython",
    "version": 3
   },
   "file_extension": ".py",
   "mimetype": "text/x-python",
   "name": "python",
   "nbconvert_exporter": "python",
   "pygments_lexer": "ipython3",
   "version": "3.7.3"
  }
 },
 "nbformat": 4,
 "nbformat_minor": 4
}
