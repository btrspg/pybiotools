{
 "cells": [
  {
   "cell_type": "code",
   "execution_count": 1,
   "metadata": {},
   "outputs": [],
   "source": [
    "# default_exp softwares.bam.nanopolish"
   ]
  },
  {
   "cell_type": "markdown",
   "metadata": {},
   "source": [
    "# nanopolish"
   ]
  },
  {
   "cell_type": "code",
   "execution_count": 3,
   "metadata": {},
   "outputs": [],
   "source": [
    "# export\n",
    "\n",
    "import os\n",
    "from pybiotools.softwares.base import Base, modify_cmd\n",
    "\n"
   ]
  },
  {
   "cell_type": "code",
   "execution_count": null,
   "metadata": {},
   "outputs": [],
   "source": [
    "# export \n",
    "\n",
    "class Nanopolish(Base):\n",
    "    def __init__(self, software, fd):\n",
    "        super(Nanopolish, self).__init__(software)\n",
    "        self._default = fd\n",
    "        if '/' in software:\n",
    "            bin = os.path.dirname(software) + '/'\n",
    "        else:\n",
    "            bin = ''\n",
    "        \n",
    "        self._calculate_methylation_frequency=bin + 'calculate_methylation_frequency.py'\n",
    "        \n",
    "    @modify_cmd\n",
    "    def cmd_version(self):\n",
    "        '''\n",
    "        :return:\n",
    "        '''\n",
    "        return 'echo {repr} ;{software} --version'.format(\n",
    "            repr=self.__repr__(),\n",
    "            software=self._software\n",
    "        )\n",
    "\n",
    "    @modify_cmd\n",
    "    def cmd_call_methylation(self,fastq,bam,reference,prefix):\n",
    "        '''\n",
    "        \n",
    "        '''\n",
    "        \n",
    "        return r'''\n",
    "{software} {call_methylation} \\\n",
    "        -r {fastq} \\\n",
    "        -b {bam} \\\n",
    "        -g {reference} > {prefix}_methylation_calls.tsv\n",
    "\n",
    "{calculate_methylation_frequency} {prefix}_methylation_calls.tsv > {prefix}_methylation_frequency.tsv\n",
    "        '''.format(\n",
    "            software=self._software,\n",
    "            call_methylation=self._default['call_methylation'],\n",
    "            calculate_methylation_frequency=self._calculate_methylation_frequency,\n",
    "            **locals()\n",
    "        )\n",
    "    \n",
    "    @modify_cmd\n",
    "    def cmd_polya(self,fastq,bam,reference,output):\n",
    "        '''\n",
    "        \n",
    "        '''\n",
    "        return r'''\n",
    "{software} {polya} \\\n",
    "        -r {fastq} \\\n",
    "        -b {bam} \\\n",
    "        -g {refernece} > {output}       \n",
    "        '''.format(\n",
    "            software=self._software,\n",
    "            polya=self._default['polya'],\n",
    "            **locals()\n",
    "        )\n",
    "    \n",
    "    @modify_cmd\n",
    "    def cmd_eventalign(self,fastq,bam,reference,output):\n",
    "        '''\n",
    "        \n",
    "        '''\n",
    "        return r'''\n",
    "{software} {eventalign} \\\n",
    "    -r {fastq} \\\n",
    "    --bam {bam} \\\n",
    "    --genome {reference} > {output}        \n",
    "        '''.format(\n",
    "            software=self._software,\n",
    "            eventalign=self._default['eventalign'],\n",
    "            **locals()\n",
    "        )\n",
    "\n",
    "    def __repr__(self):\n",
    "        return 'nanopolish:' + self._software\n",
    "\n",
    "    def __str__(self):\n",
    "        return 'Signal-level algorithms for MinION data'"
   ]
  }
 ],
 "metadata": {
  "kernelspec": {
   "display_name": "Python 3",
   "language": "python",
   "name": "python3"
  },
  "language_info": {
   "codemirror_mode": {
    "name": "ipython",
    "version": 3
   },
   "file_extension": ".py",
   "mimetype": "text/x-python",
   "name": "python",
   "nbconvert_exporter": "python",
   "pygments_lexer": "ipython3",
   "version": "3.7.3"
  }
 },
 "nbformat": 4,
 "nbformat_minor": 4
}
