{
 "cells": [
  {
   "cell_type": "code",
   "execution_count": null,
   "metadata": {},
   "outputs": [],
   "source": [
    "# default_exp softwares.bam.featurecounts"
   ]
  },
  {
   "cell_type": "markdown",
   "metadata": {},
   "source": [
    "# featurecounts"
   ]
  },
  {
   "cell_type": "code",
   "execution_count": null,
   "metadata": {},
   "outputs": [],
   "source": [
    "# export\n",
    "\n",
    "from pybiotools4p.softwares.base import Base, modify_cmd"
   ]
  },
  {
   "cell_type": "code",
   "execution_count": null,
   "metadata": {},
   "outputs": [],
   "source": [
    "# export\n",
    "\n",
    "class Featurecounts(Base):\n",
    "    def __init__(self, software, fd):\n",
    "        super(Featurecounts, self).__init__(software)\n",
    "        self._default = fd\n",
    "        \n",
    "\n",
    "    def cmd_version(self):\n",
    "        '''\n",
    "        :return:\n",
    "        '''\n",
    "        return 'echo {repr} ;{software} -v'.format(\n",
    "            repr=self.__repr__(),\n",
    "            software=self._software\n",
    "        )\n",
    "\n",
    "    @modify_cmd\n",
    "    def cmd_featurecounts(self, bams,gtf,output,tmp):\n",
    "        '''\n",
    "        '''\n",
    "        return r'''\n",
    "{software} {paras} \\\n",
    "        -a {gtf} \\\n",
    "        -o {output} \\\n",
    "        --tmpDir {tmp} \\\n",
    "        {bam_list} \n",
    "        '''.format(\n",
    "            software=self._software,\n",
    "            paras=self._default['default'],\n",
    "            bam_list=' '.join(bams) if isinstance(bams,list) else bams,\n",
    "            **locals()\n",
    "        )\n",
    "\n",
    "    def __repr__(self):\n",
    "        return 'featureCounts:' + self._software\n",
    "\n",
    "    def __str__(self):\n",
    "        return 'featureCounts for quantity of RNA-seq'"
   ]
  },
  {
   "cell_type": "code",
   "execution_count": null,
   "metadata": {},
   "outputs": [
    {
     "data": {
      "text/plain": [
       "featureCounts:featureCounts"
      ]
     },
     "execution_count": null,
     "metadata": {},
     "output_type": "execute_result"
    }
   ],
   "source": [
    "import configparser\n",
    "\n",
    "config=configparser.ConfigParser()\n",
    "config.read('pybiotools4p/default.ini')\n",
    "\n",
    "\n",
    "\n",
    "featurecounts=Featurecounts('featureCounts',config['featurecounts'])\n",
    "featurecounts"
   ]
  },
  {
   "cell_type": "code",
   "execution_count": null,
   "metadata": {},
   "outputs": [],
   "source": [
    "reference='biology-test-data/fasta/Homo_sapiens.GRCh38.dna.primary_assembly.chromosome22.fa'\n",
    "gtf_file='biology-test-data/gtf/HS.22.gtf'\n",
    "\n",
    "outbam_pe='./pybiotools/hisat_pe.bam'\n",
    "outbam_se='./pybiotools/hisat_se.bam'\n",
    "bams = [outbam_pe,outbam_se]\n",
    "outgtf='./pybiotools/stringtie.gtf'\n",
    "abundance='./pybiotools/stringtie.txt'"
   ]
  },
  {
   "cell_type": "code",
   "execution_count": null,
   "metadata": {},
   "outputs": [
    {
     "data": {
      "text/plain": [
       "'echo featureCounts:featureCounts ;featureCounts -v'"
      ]
     },
     "execution_count": null,
     "metadata": {},
     "output_type": "execute_result"
    }
   ],
   "source": [
    "featurecounts.cmd_version()"
   ]
  },
  {
   "cell_type": "code",
   "execution_count": null,
   "metadata": {},
   "outputs": [
    {
     "name": "stdout",
     "output_type": "stream",
     "text": [
      "featureCounts -T 12 -p -t exon -g gene_id -M --ignoreDup --extraAttributes gene_name \\\n",
      "        -a biology-test-data/gtf/HS.22.gtf \\\n",
      "        -o ./pybiotools/stringtie.gtf \\\n",
      "        --tmpDir ./tmp \\\n",
      "        ./pybiotools/hisat_pe.bam ./pybiotools/hisat_se.bam\n"
     ]
    }
   ],
   "source": [
    "print(featurecounts.cmd_featurecounts(bams, gtf_file,outgtf, './tmp'))"
   ]
  },
  {
   "cell_type": "code",
   "execution_count": null,
   "metadata": {},
   "outputs": [],
   "source": []
  }
 ],
 "metadata": {
  "kernelspec": {
   "display_name": "Python 3",
   "language": "python",
   "name": "python3"
  }
 },
 "nbformat": 4,
 "nbformat_minor": 4
}
