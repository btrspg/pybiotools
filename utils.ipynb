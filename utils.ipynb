{
 "cells": [
  {
   "cell_type": "code",
   "execution_count": null,
   "metadata": {},
   "outputs": [],
   "source": [
    "# default_exp utils"
   ]
  },
  {
   "cell_type": "markdown",
   "metadata": {},
   "source": [
    "# utils"
   ]
  },
  {
   "cell_type": "code",
   "execution_count": null,
   "metadata": {},
   "outputs": [],
   "source": [
    "# export\n",
    "\n",
    "import pkg_resources\n",
    "import configparser"
   ]
  },
  {
   "cell_type": "code",
   "execution_count": null,
   "metadata": {},
   "outputs": [],
   "source": [
    "# export\n",
    "\n",
    "def load_config(*configs):\n",
    "    config = configparser.ConfigParser()\n",
    "    config.read(configs)\n",
    "    return config\n",
    "\n",
    "def config(new_config=None):\n",
    "    default_config=pkg_resources.resource_filename('pybiotools','default.ini')\n",
    "    if None is new_config:\n",
    "        print('loading default_config['+default_config+']')\n",
    "        return load_config(default_config)\n",
    "    else:\n",
    "        print('loading default_config and '+ new_config)\n",
    "        return load_config(pkg_resources.resource_filename('pybiotools','default.ini'),new_config)"
   ]
  },
  {
   "cell_type": "code",
   "execution_count": null,
   "metadata": {},
   "outputs": [
    {
     "name": "stdout",
     "output_type": "stream",
     "text": [
      "[('fastp', 'fastp'), ('mkdir', 'mkdir'), ('fastqc', 'fastqc'), ('star', 'STAR'), ('hisat2', 'hisat2'), ('samtools', 'samtools'), ('stringtie', 'stringtie'), ('featurecounts', 'featureCounts')]\n"
     ]
    }
   ],
   "source": [
    "a=load_config(pkg_resources.resource_filename('pybiotools','default.ini'))\n",
    "\n",
    "print(a.items('software'))"
   ]
  },
  {
   "cell_type": "code",
   "execution_count": null,
   "metadata": {},
   "outputs": [
    {
     "name": "stdout",
     "output_type": "stream",
     "text": [
      "[('fastp', '/path/to/fastp'), ('mkdir', 'mkdir'), ('fastqc', 'fastqc'), ('star', 'STAR'), ('hisat2', 'hisat2'), ('samtools', 'samtools'), ('stringtie', 'stringtie'), ('featurecounts', 'featureCounts')]\n"
     ]
    }
   ],
   "source": [
    "a=config('tests/test.ini')\n",
    "print(a.items('software'))"
   ]
  },
  {
   "cell_type": "code",
   "execution_count": null,
   "metadata": {},
   "outputs": [
    {
     "name": "stdout",
     "output_type": "stream",
     "text": [
      "[('fastp', 'fastp'), ('mkdir', 'mkdir'), ('fastqc', 'fastqc'), ('star', 'STAR'), ('hisat2', 'hisat2'), ('samtools', 'samtools'), ('stringtie', 'stringtie'), ('featurecounts', 'featureCounts')]\n"
     ]
    }
   ],
   "source": [
    "a=config()\n",
    "print(a.items('software'))"
   ]
  },
  {
   "cell_type": "code",
   "execution_count": null,
   "metadata": {},
   "outputs": [],
   "source": []
  },
  {
   "cell_type": "code",
   "execution_count": null,
   "metadata": {},
   "outputs": [],
   "source": []
  }
 ],
 "metadata": {
  "kernelspec": {
   "display_name": "Python 3",
   "language": "python",
   "name": "python3"
  }
 },
 "nbformat": 4,
 "nbformat_minor": 4
}
