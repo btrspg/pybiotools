{
 "cells": [
  {
   "cell_type": "code",
   "execution_count": null,
   "metadata": {},
   "outputs": [],
   "source": [
    "# default_exp utils"
   ]
  },
  {
   "cell_type": "markdown",
   "metadata": {},
   "source": [
    "# utils"
   ]
  },
  {
   "cell_type": "code",
   "execution_count": 1,
   "metadata": {},
   "outputs": [],
   "source": [
    "# export\n",
    "\n",
    "import pkg_resources\n",
    "import configparser\n",
    "import yaml"
   ]
  },
  {
   "cell_type": "code",
   "execution_count": 2,
   "metadata": {},
   "outputs": [],
   "source": [
    "# export\n",
    "\n",
    "def load_config(*configs):\n",
    "    config = configparser.ConfigParser()\n",
    "    config.read(configs)\n",
    "    return config\n",
    "\n",
    "def config(new_config=None):\n",
    "    default_config=pkg_resources.resource_filename('pybiotools4p','default.ini')\n",
    "    if None is new_config:\n",
    "        print('loading default_config['+default_config+']')\n",
    "        return load_config(default_config)\n",
    "    else:\n",
    "        print('loading default_config and '+ new_config)\n",
    "        return load_config(pkg_resources.resource_filename('pybiotools4p','default.ini'),new_config)\n",
    "    \n",
    "    \n",
    "def load_yaml(*yamls):\n",
    "    my_dict={}\n",
    "    for y in yamls:\n",
    "        with open(y,'r') as yf:\n",
    "            my_dict.update(yaml.load(yf))\n",
    "    return my_dict\n",
    "\n",
    "def default_yaml(new_yaml=None):\n",
    "    default_config=pkg_resources.resource_filename('pybiotools4p','default.yaml')\n",
    "    if None is new_yaml:\n",
    "        print('loading default_config['+default_config+']')\n",
    "        return load_yaml(default_config)\n",
    "    else:\n",
    "        print('loading default_config and '+ new_yaml)\n",
    "        return load_yaml(pkg_resources.resource_filename('pybiotools4p','default.yaml'),new_yaml)\n",
    "    \n",
    "\n"
   ]
  },
  {
   "cell_type": "code",
   "execution_count": 4,
   "metadata": {},
   "outputs": [
    {
     "name": "stdout",
     "output_type": "stream",
     "text": [
      "[('fastp', 'fastp'), ('mkdir', 'mkdir'), ('fastqc', 'fastqc'), ('star', 'STAR'), ('hisat2', 'hisat2'), ('samtools', 'samtools'), ('stringtie', 'stringtie'), ('featurecounts', 'featureCounts'), ('ihr', 'IHR.R'), ('bitk', 'bitk.py'), ('rnasamba', 'rnasamba'), ('gffread', 'gffread'), ('minimap2', 'minimap2'), ('gffcompare', 'gffcompare'), ('kallisto', 'kallisto'), ('picard', 'picard -Xmx30g -XX:+UseParallelGC -XX:ParallelGCThreads=2'), ('nanopolish', 'nanopolish'), ('nanopolishcomp', 'NanopolishComp')]\n"
     ]
    }
   ],
   "source": [
    "a=load_config(pkg_resources.resource_filename('pybiotools4p','default.ini'))\n",
    "\n",
    "print(a.items('software'))"
   ]
  },
  {
   "cell_type": "code",
   "execution_count": 5,
   "metadata": {},
   "outputs": [
    {
     "name": "stdout",
     "output_type": "stream",
     "text": [
      "loading default_config and tests/test.ini\n",
      "[('fastp', '/path/to/fastp'), ('mkdir', 'mkdir'), ('fastqc', 'fastqc'), ('star', 'STAR'), ('hisat2', 'hisat2'), ('samtools', 'samtools'), ('stringtie', 'stringtie'), ('featurecounts', 'featureCounts'), ('ihr', 'IHR.R'), ('bitk', 'bitk.py'), ('rnasamba', 'rnasamba'), ('gffread', 'gffread'), ('minimap2', 'minimap2'), ('gffcompare', 'gffcompare'), ('kallisto', 'kallisto'), ('picard', 'picard -Xmx30g -XX:+UseParallelGC -XX:ParallelGCThreads=2'), ('nanopolish', 'nanopolish'), ('nanopolishcomp', 'NanopolishComp')]\n"
     ]
    }
   ],
   "source": [
    "a=config('tests/test.ini')\n",
    "print(a.items('software'))"
   ]
  },
  {
   "cell_type": "code",
   "execution_count": 6,
   "metadata": {},
   "outputs": [
    {
     "name": "stdout",
     "output_type": "stream",
     "text": [
      "loading default_config[/home/logan/PycharmProjects/pybiotools/pybiotools4p/default.ini]\n",
      "[('fastp', 'fastp'), ('mkdir', 'mkdir'), ('fastqc', 'fastqc'), ('star', 'STAR'), ('hisat2', 'hisat2'), ('samtools', 'samtools'), ('stringtie', 'stringtie'), ('featurecounts', 'featureCounts'), ('ihr', 'IHR.R'), ('bitk', 'bitk.py'), ('rnasamba', 'rnasamba'), ('gffread', 'gffread'), ('minimap2', 'minimap2'), ('gffcompare', 'gffcompare'), ('kallisto', 'kallisto'), ('picard', 'picard -Xmx30g -XX:+UseParallelGC -XX:ParallelGCThreads=2'), ('nanopolish', 'nanopolish'), ('nanopolishcomp', 'NanopolishComp')]\n"
     ]
    }
   ],
   "source": [
    "a=config()\n",
    "print(a.items('software'))"
   ]
  },
  {
   "cell_type": "code",
   "execution_count": null,
   "metadata": {},
   "outputs": [],
   "source": []
  },
  {
   "cell_type": "code",
   "execution_count": null,
   "metadata": {},
   "outputs": [],
   "source": []
  }
 ],
 "metadata": {
  "kernelspec": {
   "display_name": "Python 3",
   "language": "python",
   "name": "python3"
  },
  "language_info": {
   "codemirror_mode": {
    "name": "ipython",
    "version": 3
   },
   "file_extension": ".py",
   "mimetype": "text/x-python",
   "name": "python",
   "nbconvert_exporter": "python",
   "pygments_lexer": "ipython3",
   "version": "3.7.3"
  }
 },
 "nbformat": 4,
 "nbformat_minor": 4
}
