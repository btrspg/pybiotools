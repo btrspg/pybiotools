{
 "cells": [
  {
   "cell_type": "code",
   "execution_count": null,
   "metadata": {},
   "outputs": [],
   "source": [
    "# default_exp softwares.bam.twopasstools"
   ]
  },
  {
   "cell_type": "markdown",
   "metadata": {},
   "source": [
    "# 2passtools"
   ]
  },
  {
   "cell_type": "code",
   "execution_count": null,
   "metadata": {},
   "outputs": [],
   "source": [
    "# export\n",
    "\n",
    "from pybiotools4p.softwares.base import Base, modify_cmd"
   ]
  },
  {
   "cell_type": "code",
   "execution_count": null,
   "metadata": {},
   "outputs": [],
   "source": [
    "# export\n",
    "\n",
    "class Twopasstools(Base):\n",
    "    def __init__(self, software, fd):\n",
    "        super(Twopasstools, self).__init__(software)\n",
    "        self._default = fd\n",
    "\n",
    "    \n",
    "    def cmd_version(self):\n",
    "        '''\n",
    "        :return:\n",
    "        '''\n",
    "        return 'echo {repr} ;echo NO VERSION INFO  '.format(\n",
    "            repr=self.__repr__(),\n",
    "            software=self._software\n",
    "        )\n",
    "\n",
    "    @modify_cmd\n",
    "    def cmd_score(self,reference,output,bam):\n",
    "        '''\n",
    "        '''\n",
    "        return r'''\n",
    "{software} {score_paras} -o {output} -f {reference} {bam}      \n",
    "        '''.format(\n",
    "            software=self._software,\n",
    "            score_paras=self._default['score'],\n",
    "            **locals()\n",
    "        )\n",
    "\n",
    "    @modify_cmd\n",
    "    def cmd_filter(self, filtered_bed, raw_bed):\n",
    "        '''\n",
    "        '''\n",
    "        \n",
    "        return r'''\n",
    "{software} {filter_paras} -o {filtered_bed}  {raw_bed}\n",
    "            '''.format(\n",
    "            filter_paras=self._default['filter'],\n",
    "            software=self._software,\n",
    "            **locals())\n",
    "\n",
    "   \n",
    "\n",
    "    def __repr__(self):\n",
    "        return '2passtools:' + self._software\n",
    "\n",
    "    def __str__(self):\n",
    "        return '''A package for filtering splice junctions extracted from noisy long read alignments generated using minimap2. \n",
    "        These can then be used to perform second pass alignment with minimap2, feeding in the junctions using the --junc-bed flag.'''\n"
   ]
  }
 ],
 "metadata": {
  "kernelspec": {
   "display_name": "Python 3",
   "language": "python",
   "name": "python3"
  }
 },
 "nbformat": 4,
 "nbformat_minor": 4
}
