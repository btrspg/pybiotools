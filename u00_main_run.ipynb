{
 "cells": [
  {
   "cell_type": "code",
   "execution_count": null,
   "metadata": {},
   "outputs": [],
   "source": [
    "# default_exp cmdl"
   ]
  },
  {
   "cell_type": "markdown",
   "metadata": {},
   "source": [
    "# cmdl"
   ]
  },
  {
   "cell_type": "code",
   "execution_count": null,
   "metadata": {},
   "outputs": [],
   "source": [
    "# export\n",
    "\n",
    "import defopt\n",
    "\n",
    "from pybiotools.cmdutils.cmdkallisto import kallisto_quant_merge\n",
    "from pybiotools.cmdutils.cmdgffcompare import gffcompare_multiple_gtf_tracking"
   ]
  },
  {
   "cell_type": "code",
   "execution_count": null,
   "metadata": {},
   "outputs": [],
   "source": [
    "# export\n",
    "\n",
    "def main():\n",
    "    cmdlfs = [\n",
    "        kallisto_quant_merge,\n",
    "        gffcompare_multiple_gtf_tracking,\n",
    "    ]\n",
    "    defopt.run(cmdlfs)"
   ]
  },
  {
   "cell_type": "code",
   "execution_count": null,
   "metadata": {},
   "outputs": [],
   "source": []
  }
 ],
 "metadata": {
  "kernelspec": {
   "display_name": "Python 3",
   "language": "python",
   "name": "python3"
  }
 },
 "nbformat": 4,
 "nbformat_minor": 4
}
