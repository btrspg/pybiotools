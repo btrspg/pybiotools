{
 "cells": [
  {
   "cell_type": "code",
   "execution_count": null,
   "metadata": {},
   "outputs": [],
   "source": [
    "# default_exp softwares.inhouse.r"
   ]
  },
  {
   "cell_type": "markdown",
   "metadata": {},
   "source": [
    "# inhouserscript"
   ]
  },
  {
   "cell_type": "code",
   "execution_count": null,
   "metadata": {},
   "outputs": [],
   "source": [
    "# export\n",
    "\n",
    "import os\n",
    "from pybiotools.softwares.base import Base, modify_cmd\n"
   ]
  },
  {
   "cell_type": "code",
   "execution_count": null,
   "metadata": {},
   "outputs": [],
   "source": [
    "# export\n",
    "\n",
    "\n",
    "class Inhouerscript(Base):\n",
    "    def __init__(self, software, fd):\n",
    "        super(Inhouerscript, self).__init__(software)\n",
    "        self._default = fd\n",
    "        if '/' in software:\n",
    "            bin = os.path.dirname(software) + '/'\n",
    "        else:\n",
    "            bin = ''\n",
    "        self._deseq2 = bin + 'deseq2.R'\n",
    "        \n",
    "        \n",
    "\n",
    "    def cmd_version(self):\n",
    "        '''\n",
    "        :return:\n",
    "        '''\n",
    "        return 'echo {repr} ;{software}'.format(\n",
    "            repr=self.__repr__(),\n",
    "            software=self._software\n",
    "        )\n",
    "\n",
    "    @modify_cmd\n",
    "    def cmd_deg_deseq2(self, count,clinical,control,prefix):\n",
    "        '''\n",
    "        '''\n",
    "        return r'''\n",
    "{software} {count} \\\n",
    "            {clinical} \\\n",
    "            {control} \\\n",
    "            {prefix} \n",
    "        '''.format(\n",
    "            software=self._deseq2,\n",
    "            **locals()\n",
    "        )\n",
    "\n",
    "    def __repr__(self):\n",
    "        return 'inhouserscript:' + self._software\n",
    "\n",
    "    def __str__(self):\n",
    "        return '''\n",
    "In-house Rscripts rep, https://github.com/btrspg/bioinfo-rscripts\n",
    "        '''"
   ]
  },
  {
   "cell_type": "code",
   "execution_count": null,
   "metadata": {},
   "outputs": [],
   "source": [
    "import configparser\n",
    "\n",
    "config=configparser.ConfigParser()\n",
    "config.read('pybiotools/default.ini')\n",
    "\n",
    "ihr=Inhouerscript(config['software']['ihr'],config['hisat2'])\n"
   ]
  },
  {
   "cell_type": "code",
   "execution_count": null,
   "metadata": {},
   "outputs": [
    {
     "data": {
      "text/plain": [
       "inhouserscript:IHR.R"
      ]
     },
     "execution_count": null,
     "metadata": {},
     "output_type": "execute_result"
    }
   ],
   "source": [
    "ihr"
   ]
  },
  {
   "cell_type": "code",
   "execution_count": null,
   "metadata": {},
   "outputs": [
    {
     "name": "stdout",
     "output_type": "stream",
     "text": [
      "\n",
      "In-house Rscripts rep, https://github.com/btrspg/bioinfo-rscripts\n",
      "        \n"
     ]
    }
   ],
   "source": [
    "print(ihr)"
   ]
  },
  {
   "cell_type": "code",
   "execution_count": null,
   "metadata": {},
   "outputs": [
    {
     "data": {
      "text/plain": [
       "'echo inhouserscript:IHR.R ;IHR.R'"
      ]
     },
     "execution_count": null,
     "metadata": {},
     "output_type": "execute_result"
    }
   ],
   "source": [
    "ihr.cmd_version()"
   ]
  },
  {
   "cell_type": "code",
   "execution_count": null,
   "metadata": {},
   "outputs": [
    {
     "name": "stdout",
     "output_type": "stream",
     "text": [
      "deseq2.R count \\\n",
      "            clinical \\\n",
      "            control \\\n",
      "            prefix\n"
     ]
    }
   ],
   "source": [
    "print(ihr.cmd_deg_deseq2('count','clinical','control','prefix'))"
   ]
  },
  {
   "cell_type": "code",
   "execution_count": null,
   "metadata": {},
   "outputs": [],
   "source": []
  }
 ],
 "metadata": {
  "kernelspec": {
   "display_name": "Python 3",
   "language": "python",
   "name": "python3"
  }
 },
 "nbformat": 4,
 "nbformat_minor": 4
}
