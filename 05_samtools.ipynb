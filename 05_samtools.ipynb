{
 "cells": [
  {
   "cell_type": "code",
   "execution_count": null,
   "metadata": {},
   "outputs": [],
   "source": [
    "# default_exp softwares.bam.samtools"
   ]
  },
  {
   "cell_type": "markdown",
   "metadata": {},
   "source": [
    "# samtools"
   ]
  },
  {
   "cell_type": "code",
   "execution_count": null,
   "metadata": {},
   "outputs": [],
   "source": [
    "# export\n",
    "\n",
    "from pybiotools.base import Base,modify_cmd\n"
   ]
  },
  {
   "cell_type": "code",
   "execution_count": null,
   "metadata": {},
   "outputs": [],
   "source": [
    "# export\n",
    "\n",
    "class Samtools(Base):\n",
    "    def __init__(self, software, fd):\n",
    "        super(Samtools, self).__init__(software)\n",
    "        self._default = fd\n",
    "\n",
    "    \n",
    "    def cmd_version(self):\n",
    "        '''\n",
    "        :return:\n",
    "        '''\n",
    "        return 'echo {repr} ;echo $({software} 2>&1 | grep Version)  '.format(\n",
    "            repr=self.__repr__(),\n",
    "            software=self._software\n",
    "        )\n",
    "\n",
    "    @modify_cmd\n",
    "    def cmd_faidx(self,reference):\n",
    "        '''\n",
    "        :param reference:\n",
    "        :return:\n",
    "        '''\n",
    "        return r'''\n",
    "{software} {faidx} {reference}       \n",
    "        '''.format(\n",
    "            software=self._software,\n",
    "            faidx=self._default['faidx'],\n",
    "            **locals()\n",
    "        )\n",
    "\n",
    "    @modify_cmd\n",
    "    def cmd_sam2bam(self, samtools_idx, samfile, bamfile=None):\n",
    "        '''\n",
    "        :param samtools_idx:\n",
    "        :param samfile:\n",
    "        :param bamfile:\n",
    "        :return:\n",
    "        '''\n",
    "        if bamfile in [None,'']:\n",
    "            bamfile = ''\n",
    "        else:\n",
    "            bamfile = '-o ' + bamfile\n",
    "        return r'''\n",
    "{samtools} {sam2bam_paras} {samtools_idx} {samfile} {bamfile}\n",
    "            '''.format(\n",
    "            sam2bam_paras=self._default['sam2bam'],\n",
    "            samtools=self._software,\n",
    "            **locals())\n",
    "\n",
    "    @modify_cmd\n",
    "    def cmd_sort(self, bamfile, sortbam=None):\n",
    "        '''\n",
    "        :return:\n",
    "        '''\n",
    "        if sortbam in ['',None]:\n",
    "            sortbam = ''\n",
    "        else:\n",
    "            sortbam = '-o ' + sortbam\n",
    "        return r'''\n",
    "{samtools} {sort_paras} {bamfile} {sortbam}        \n",
    "        '''.format(\n",
    "            samtools=self._software,\n",
    "            sort_paras=self._default['sort'],\n",
    "            **locals())\n",
    "\n",
    "    @modify_cmd\n",
    "    def cmd_index(self, bamfile):\n",
    "        '''\n",
    "        :param bamfile:\n",
    "        :return:\n",
    "        '''\n",
    "        return r'''\n",
    "{samtools} {index_paras} {bamfile}        \n",
    "            '''.format(\n",
    "            samtools=self._software,\n",
    "            index_paras=self._default['index'],\n",
    "            **locals())\n",
    "\n",
    "    def __repr__(self):\n",
    "        return 'samtools:' + self._software\n",
    "\n",
    "    def __str__(self):\n",
    "        return 'SAM Tools provide various utilities for manipulating alignments in the SAM format, ' \\\n",
    "               'including sorting, merging, indexing and generating alignments in a per-position format.'\n"
   ]
  },
  {
   "cell_type": "code",
   "execution_count": null,
   "metadata": {},
   "outputs": [],
   "source": [
    "bamfile='biology-test-data/bam/HS.22_1_18000000.Raw.bam'\n",
    "reference='biology-test-data/fasta/Homo_sapiens.GRCh38.dna.primary_assembly.chromosome22.fa'\n",
    "samfile='biology-test-data/bam/HS.22_1_18000000.Raw.sam'\n",
    "samtools_idx='biology-test-data/fasta/Homo_sapiens.GRCh38.dna.primary_assembly.chromosome22.fa.fai'\n",
    "bamout='./pybiotools/HS.22_1_18000000.bam'\n",
    "sortbam='./pybiotools/HS.22_1_18000000_sort.bam'"
   ]
  },
  {
   "cell_type": "code",
   "execution_count": null,
   "metadata": {},
   "outputs": [
    {
     "data": {
      "text/plain": [
       "samtools:samtools"
      ]
     },
     "execution_count": null,
     "metadata": {},
     "output_type": "execute_result"
    }
   ],
   "source": [
    "import configparser\n",
    "\n",
    "config=configparser.ConfigParser()\n",
    "config.read('pybiotools/default.ini')\n",
    "\n",
    "samtools=Samtools('samtools',config['samtools'])\n",
    "samtools"
   ]
  },
  {
   "cell_type": "code",
   "execution_count": null,
   "metadata": {},
   "outputs": [
    {
     "data": {
      "text/plain": [
       "'echo samtools:samtools ;echo $(samtools 2>&1 | grep Version)  '"
      ]
     },
     "execution_count": null,
     "metadata": {},
     "output_type": "execute_result"
    }
   ],
   "source": [
    "samtools.cmd_version()"
   ]
  },
  {
   "cell_type": "code",
   "execution_count": null,
   "metadata": {},
   "outputs": [],
   "source": [
    "#!samtools view biology-test-data/bam/HS.22_1_18000000.Raw.bam > biology-test-data/bam/HS.22_1_18000000.Raw.sam"
   ]
  },
  {
   "cell_type": "code",
   "execution_count": null,
   "metadata": {},
   "outputs": [
    {
     "name": "stdout",
     "output_type": "stream",
     "text": [
      "\n",
      "samtools faidx biology-test-data/fasta/Homo_sapiens.GRCh38.dna.primary_assembly.chromosome22.fa       \n",
      "        \n"
     ]
    }
   ],
   "source": [
    "print(samtools.cmd_faidx(reference))"
   ]
  },
  {
   "cell_type": "code",
   "execution_count": null,
   "metadata": {},
   "outputs": [
    {
     "name": "stdout",
     "output_type": "stream",
     "text": [
      "\n",
      "samtools view -bSt biology-test-data/fasta/Homo_sapiens.GRCh38.dna.primary_assembly.chromosome22.fa.fai biology-test-data/bam/HS.22_1_18000000.Raw.sam -o ./pybiotools/HS.22_1_18000000.bam\n",
      "            \n"
     ]
    }
   ],
   "source": [
    "print(samtools.cmd_sam2bam(samtools_idx, samfile, bamfile=bamout))"
   ]
  },
  {
   "cell_type": "code",
   "execution_count": null,
   "metadata": {},
   "outputs": [
    {
     "name": "stdout",
     "output_type": "stream",
     "text": [
      "\n",
      "samtools sort ./pybiotools/HS.22_1_18000000.bam -o ./pybiotools/HS.22_1_18000000_sort.bam        \n",
      "        \n"
     ]
    }
   ],
   "source": [
    "print(samtools.cmd_sort( bamout, sortbam=sortbam))"
   ]
  },
  {
   "cell_type": "code",
   "execution_count": null,
   "metadata": {},
   "outputs": [
    {
     "name": "stdout",
     "output_type": "stream",
     "text": [
      "\n",
      "samtools index ./pybiotools/HS.22_1_18000000_sort.bam        \n",
      "            \n"
     ]
    }
   ],
   "source": [
    "print(samtools.cmd_index( sortbam))"
   ]
  },
  {
   "cell_type": "code",
   "execution_count": null,
   "metadata": {},
   "outputs": [],
   "source": []
  },
  {
   "cell_type": "code",
   "execution_count": null,
   "metadata": {},
   "outputs": [],
   "source": []
  }
 ],
 "metadata": {
  "kernelspec": {
   "display_name": "Python 3",
   "language": "python",
   "name": "python3"
  }
 },
 "nbformat": 4,
 "nbformat_minor": 4
}
