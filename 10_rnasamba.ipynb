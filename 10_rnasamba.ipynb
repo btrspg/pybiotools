{
 "cells": [
  {
   "cell_type": "code",
   "execution_count": null,
   "metadata": {},
   "outputs": [],
   "source": [
    "# default_exp softwares.fasta.rnasamba"
   ]
  },
  {
   "cell_type": "markdown",
   "metadata": {},
   "source": [
    "# rnasamba"
   ]
  },
  {
   "cell_type": "code",
   "execution_count": null,
   "metadata": {},
   "outputs": [],
   "source": [
    "# export\n",
    "\n",
    "from pybiotools4p.softwares.base import Base,modify_cmd"
   ]
  },
  {
   "cell_type": "code",
   "execution_count": null,
   "metadata": {},
   "outputs": [],
   "source": [
    "# export\n",
    "\n",
    "class Rnasamba(Base):\n",
    "    def __init__(self, software, fd):\n",
    "        super(Rnasamba, self).__init__(software)\n",
    "        self._default = fd\n",
    "\n",
    "    def cmd_version(self):\n",
    "        '''\n",
    "        :return:\n",
    "        '''\n",
    "        return 'echo {repr} ;{software} --version'.format(\n",
    "            repr=self.__repr__(),\n",
    "            software=self._software\n",
    "        )\n",
    "\n",
    "    @modify_cmd\n",
    "    def cmd_training_model(self, output_file, coding_file, noncoding_file):\n",
    "        '''\n",
    "\n",
    "        :param output_file:\n",
    "        :param coding_file:\n",
    "        :param noncoding_file:\n",
    "        :return:\n",
    "        '''\n",
    "\n",
    "\n",
    "        return r'''\n",
    "{software} {train_para} \\\n",
    "            {output_file} \\\n",
    "            {coding_file} \\\n",
    "            {noncoding_file}\n",
    "            '''.format(\n",
    "                train_para=self._default['train'],\n",
    "                software=self._software,\n",
    "                **locals()\n",
    "            )\n",
    "\n",
    "    @modify_cmd\n",
    "    def cmd_classify(self,protein_fasta,output_file,fasta_file,weights):\n",
    "        return r'''\n",
    "{software} {classify_para} \\\n",
    "            -p {protein_fasta} \\\n",
    "            {output_file} \\\n",
    "            {fasta_file} \\\n",
    "            {weights}\n",
    "        '''.format(\n",
    "            software=self._software,\n",
    "            classify_para=self._default['classify'],\n",
    "            **locals()\n",
    "        )\n",
    "\n",
    "    def __repr__(self):\n",
    "        return 'rnasamba:' + self._software\n",
    "\n",
    "    def __str__(self):\n",
    "        return 'RNAsamba is a tool for computing the coding potential of RNA ' \\\n",
    "               'sequences using a neural network classification model. ' \\\n",
    "               'It can be used to identify mRNAs and lncRNAs without relying ' \\\n",
    "               'on database searches. '"
   ]
  }
 ],
 "metadata": {
  "kernelspec": {
   "display_name": "Python 3",
   "language": "python",
   "name": "python3"
  },
  "language_info": {
   "codemirror_mode": {
    "name": "ipython",
    "version": 3
   },
   "file_extension": ".py",
   "mimetype": "text/x-python",
   "name": "python",
   "nbconvert_exporter": "python",
   "pygments_lexer": "ipython3",
   "version": "3.7.3"
  }
 },
 "nbformat": 4,
 "nbformat_minor": 4
}
