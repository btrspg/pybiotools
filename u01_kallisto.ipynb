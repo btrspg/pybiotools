{
 "cells": [
  {
   "cell_type": "code",
   "execution_count": null,
   "metadata": {},
   "outputs": [],
   "source": [
    "# default_exp cmdutils.cmdkallisto"
   ]
  },
  {
   "cell_type": "markdown",
   "metadata": {},
   "source": [
    "# cmdkallisto"
   ]
  },
  {
   "cell_type": "code",
   "execution_count": null,
   "metadata": {},
   "outputs": [],
   "source": [
    "# export\n",
    "\n",
    "import pandas as pd"
   ]
  },
  {
   "cell_type": "code",
   "execution_count": null,
   "metadata": {},
   "outputs": [],
   "source": [
    "# export\n",
    "\n",
    "def kallisto_quant_merge(prefix,abundances,samples):\n",
    "    '''\n",
    "    Merge kallisto quant results\n",
    "    \n",
    "    :param str prefix: output prefix, outputs contain two files: prefix_count.tsv and prefix_tpm.tsv\n",
    "    :param list[str] abundances: kallisto quant results, e.g. /path/to/1/abundance.tsv /path/to/2/abundance.tsv ...\n",
    "    :param list[str] samples: sample names consistent with kallisto quant results.\n",
    "    \n",
    "    '''\n",
    "    if len(abundances) != len(samples):\n",
    "        raise ValueError('length of abundance files and samples should be the same. len(abundance):'+\n",
    "                         str(len(abundance))+\n",
    "                         ', while len(samples):'+\n",
    "                         str(len(samples)))\n",
    "    \n",
    "    sample = samples.pop(0)\n",
    "    abundance = abundances.pop(0)\n",
    "    df = pd.read_csv(abundance,sep='\\t')\n",
    "    count = df[['target_id','est_counts']]\n",
    "    tpm =  df[['target_id','tpm']]\n",
    "    count.columns=['Geneid',sample]\n",
    "    tpm.columns=['Geneid',sample]\n",
    "    for ab,sa in zip(abundances,samples):\n",
    "        print(f'Reading {ab}')\n",
    "        tmp_df = pd.read_csv(ab,sep='\\t')\n",
    "        tmp_count = tmp_df[['target_id','est_counts']]\n",
    "        tmp_tpm =  tmp_df[['target_id','tpm']]\n",
    "        tmp_count.columns=['Geneid',sa]\n",
    "        tmp_tpm.columns=['Geneid',sa]\n",
    "        count = count.merge(tmp_count,how='outer',on='Geneid')\n",
    "        tpm = tpm.merge(tmp_tpm,how='outer',on='Geneid')\n",
    "    tpm.to_csv(f'{prefix}_tpm.tsv',sep='\\t',index=False)\n",
    "    count= count.set_index('Geneid')\n",
    "    count = count.astype(int)\n",
    "    count.to_csv(f'{prefix}_count.tsv',sep='\\t')"
   ]
  },
  {
   "cell_type": "code",
   "execution_count": null,
   "metadata": {},
   "outputs": [],
   "source": [
    "'SRR12678525',\n",
    "'SRR12678526',\n",
    "'SRR12678527',\n",
    "'SRR12678528',\n",
    "'SRR12678529',\n",
    "'SRR12678530'"
   ]
  }
 ],
 "metadata": {
  "kernelspec": {
   "display_name": "Python 3",
   "language": "python",
   "name": "python3"
  },
  "language_info": {
   "codemirror_mode": {
    "name": "ipython",
    "version": 3
   },
   "file_extension": ".py",
   "mimetype": "text/x-python",
   "name": "python",
   "nbconvert_exporter": "python",
   "pygments_lexer": "ipython3",
   "version": "3.7.3"
  }
 },
 "nbformat": 4,
 "nbformat_minor": 4
}
