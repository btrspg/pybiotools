{
 "cells": [
  {
   "cell_type": "code",
   "execution_count": null,
   "metadata": {},
   "outputs": [],
   "source": [
    "# default_exp softwares.bam.picard"
   ]
  },
  {
   "cell_type": "markdown",
   "metadata": {},
   "source": [
    "# picard"
   ]
  },
  {
   "cell_type": "code",
   "execution_count": null,
   "metadata": {},
   "outputs": [],
   "source": [
    "# export\n",
    "\n",
    "from pybiotools4p.softwares.base import Base, modify_cmd\n"
   ]
  },
  {
   "cell_type": "code",
   "execution_count": null,
   "metadata": {},
   "outputs": [],
   "source": [
    "# export\n",
    "\n",
    "class Picard(Base):\n",
    "    def __init__(self, software, fd):\n",
    "        super(Picard, self).__init__(software)\n",
    "        self._default = fd\n",
    "\n",
    "    def cmd_version(self):\n",
    "        return 'echo {repr};echo NOVERSION '.format(\n",
    "            repr=self.__repr__()\n",
    "        )\n",
    "\n",
    "    \n",
    "    @modify_cmd\n",
    "    def cmd_mark_duplicates(self, bam_file, marked_bam, qc_prefix, tmp):\n",
    "        '''\n",
    "        :param bam_file:\n",
    "        :param marked_bam:\n",
    "        :param qc_prefix:\n",
    "        :param tmp:\n",
    "        :return:\n",
    "        '''\n",
    "        return r'''\n",
    "{software} -Djava.io.tmpdir={tmp} {markdup_para} \\\n",
    "          I={bam_file} \\\n",
    "          O={marked_bam} \\\n",
    "          M={qc_prefix}.marked_dup_metrics.txt\n",
    "{software} -Djava.io.tmpdir={tmp} {bbi_para} \\\n",
    "          I={marked_bam} \n",
    "            '''.format(\n",
    "            tmp=tmp,\n",
    "            markdup_para=self._default['markdup'],\n",
    "            bbi_para=self._default['buildbamindex'],\n",
    "            software=self._software,\n",
    "            bam_file=bam_file,\n",
    "            qc_prefix=qc_prefix,\n",
    "            marked_bam=marked_bam\n",
    "        )\n",
    "\n",
    "    def __repr__(self):\n",
    "        return 'picard:' + self._software\n",
    "\n",
    "    def __str__(self):\n",
    "        return 'A set of command line tools (in Java) for manipulating high-throughput ' \\\n",
    "               'sequencing (HTS) data and formats such as SAM/BAM/CRAM and VCF'\n"
   ]
  }
 ],
 "metadata": {
  "kernelspec": {
   "display_name": "Python 3",
   "language": "python",
   "name": "python3"
  },
  "language_info": {
   "codemirror_mode": {
    "name": "ipython",
    "version": 3
   },
   "file_extension": ".py",
   "mimetype": "text/x-python",
   "name": "python",
   "nbconvert_exporter": "python",
   "pygments_lexer": "ipython3",
   "version": "3.7.3"
  }
 },
 "nbformat": 4,
 "nbformat_minor": 4
}
