{
 "cells": [
  {
   "cell_type": "code",
   "execution_count": null,
   "metadata": {},
   "outputs": [],
   "source": [
    "# default_exp softwares.tsv.nanopolishcomp"
   ]
  },
  {
   "cell_type": "markdown",
   "metadata": {},
   "source": [
    "# nanopolishcomp"
   ]
  },
  {
   "cell_type": "code",
   "execution_count": null,
   "metadata": {},
   "outputs": [],
   "source": [
    "# export\n",
    "\n",
    "import os\n",
    "from pybiotools4p.softwares.base import Base, modify_cmd\n",
    "\n"
   ]
  },
  {
   "cell_type": "code",
   "execution_count": null,
   "metadata": {},
   "outputs": [],
   "source": [
    "# export \n",
    "\n",
    "class Nanopolishcomp(Base):\n",
    "    def __init__(self, software, fd):\n",
    "        super(Nanopolishcomp, self).__init__(software)\n",
    "        self._default = fd\n",
    "        \n",
    "        \n",
    "    @modify_cmd\n",
    "    def cmd_version(self):\n",
    "        '''\n",
    "        :return:\n",
    "        '''\n",
    "        return 'echo {repr} ;{software} --version'.format(\n",
    "            repr=self.__repr__(),\n",
    "            software=self._software\n",
    "        )\n",
    "\n",
    "    @modify_cmd\n",
    "    def call_eventalign_collapse(self,eventalign_file,prefix):\n",
    "        '''\n",
    "        \n",
    "        '''\n",
    "        \n",
    "        return r'''\n",
    "{software} {eventalign_collapse} -i {eventalign_file} \\\n",
    "        -p {prefix}\n",
    "        '''.format(\n",
    "            software=self._software,\n",
    "            eventalign_collapse=self._default['eventalign_collapse'],\n",
    "            **locals()\n",
    "        )\n",
    "    \n",
    "   \n",
    "\n",
    "    def __repr__(self):\n",
    "        return 'NanopolishComp:' + self._software\n",
    "\n",
    "    def __str__(self):\n",
    "        return 'NanopolishComp is a Python3 package for downstream analyses of Nanopolish output files'"
   ]
  }
 ],
 "metadata": {
  "kernelspec": {
   "display_name": "Python 3",
   "language": "python",
   "name": "python3"
  }
 },
 "nbformat": 4,
 "nbformat_minor": 4
}
