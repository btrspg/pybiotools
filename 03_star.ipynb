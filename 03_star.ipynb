{
 "cells": [
  {
   "cell_type": "code",
   "execution_count": null,
   "metadata": {},
   "outputs": [],
   "source": [
    "# default_exp softwares.fastq.star"
   ]
  },
  {
   "cell_type": "markdown",
   "metadata": {},
   "source": [
    "# STAR"
   ]
  },
  {
   "cell_type": "code",
   "execution_count": 5,
   "metadata": {},
   "outputs": [],
   "source": [
    "# export\n",
    "\n",
    "from pybiotools4p.softwares.base import Base, modify_cmd\n"
   ]
  },
  {
   "cell_type": "code",
   "execution_count": 6,
   "metadata": {},
   "outputs": [],
   "source": [
    "# export\n",
    "\n",
    "class Star(Base):\n",
    "    def __init__(self, software, fd):\n",
    "        super(Star, self).__init__(software)\n",
    "        self._default = fd\n",
    "\n",
    "    def cmd_version(self):\n",
    "        return 'echo {repr};{software} --version'.format(\n",
    "            repr=self.__repr__(),\n",
    "            software=self._software\n",
    "        )\n",
    "    \n",
    "    @modify_cmd\n",
    "    def cmd_build_index(self, star_index_dir, reference, gtf, read_length):\n",
    "        '''\n",
    "        :param star_index_dir:\n",
    "        :param reference:\n",
    "        :param gtf:\n",
    "        :param read_length:\n",
    "        :return:\n",
    "        '''\n",
    "        return r'''\n",
    "{star} {build_index} \\\n",
    "        --genomeDir {star_index_dir} \\\n",
    "        --genomeFastaFiles {reference} \\\n",
    "        --sjdbGTFfile {gtf} \\\n",
    "        --sjdbOverhang {read_length}        \n",
    "        '''.format(\n",
    "            star=self._software,\n",
    "            build_index=self._default['build_index'],\n",
    "            **locals()\n",
    "        )\n",
    "\n",
    "    @modify_cmd\n",
    "    def cmd_align(self, star_idx, fq1, fq2, prefix, gtf, read_length, miRNA=False):\n",
    "        '''\n",
    "        :param star_idx:\n",
    "        :param fq1:\n",
    "        :param fq2:\n",
    "        :param prefix:\n",
    "        :param gtf:\n",
    "        :param sampleid:\n",
    "        :param lane:\n",
    "        :param platform:\n",
    "        :param read_length:\n",
    "        :return:\n",
    "        '''\n",
    "\n",
    "        return r'''\n",
    "{star} {align_paras} \\\n",
    "    --genomeDir {star_idx} \\\n",
    "    --readFilesIn {fq1} {fq2} \\\n",
    "    --outFileNamePrefix {prefix} \\\n",
    "    --sjdbGTFfile {gtf}  \\\n",
    "    --sjdbOverhang {read_length} {mp}    \n",
    "            '''.format(\n",
    "            star=self._software,\n",
    "            align_paras=self._default['align'],\n",
    "            mp=self._default['mirna_align'] if miRNA else '',\n",
    "            **locals()\n",
    "        )\n",
    "\n",
    "    def __repr__(self):\n",
    "        return 'star:' + self._software\n",
    "\n",
    "    def __str__(self):\n",
    "        return 'Spliced Transcripts Alignment to a Reference'"
   ]
  },
  {
   "cell_type": "code",
   "execution_count": 7,
   "metadata": {},
   "outputs": [
    {
     "data": {
      "text/plain": [
       "star:STAR"
      ]
     },
     "execution_count": 7,
     "metadata": {},
     "output_type": "execute_result"
    }
   ],
   "source": [
    "import configparser\n",
    "\n",
    "config=configparser.ConfigParser()\n",
    "config.read('pybiotools4p/default.ini')\n",
    "\n",
    "star=Star('STAR',config['star'])\n",
    "star"
   ]
  },
  {
   "cell_type": "code",
   "execution_count": 8,
   "metadata": {},
   "outputs": [
    {
     "name": "stdout",
     "output_type": "stream",
     "text": [
      "echo star:STAR;STAR --version\n"
     ]
    }
   ],
   "source": [
    "print(star.cmd_version())"
   ]
  },
  {
   "cell_type": "code",
   "execution_count": 9,
   "metadata": {},
   "outputs": [
    {
     "name": "stdout",
     "output_type": "stream",
     "text": [
      "Spliced Transcripts Alignment to a Reference\n"
     ]
    }
   ],
   "source": [
    "print(star)"
   ]
  },
  {
   "cell_type": "code",
   "execution_count": 10,
   "metadata": {},
   "outputs": [
    {
     "name": "stdout",
     "output_type": "stream",
     "text": [
      "STAR --runThreadN 16 --runMode genomeGenerate \\\n",
      "        --genomeDir ./pybiotools/star_index \\\n",
      "        --genomeFastaFiles biology-test-data/fasta/Homo_sapiens.GRCh38.dna.primary_assembly.chromosome22.fa \\\n",
      "        --sjdbGTFfile biology-test-data/gtf/HS.22.gtf \\\n",
      "        --sjdbOverhang 99\n"
     ]
    }
   ],
   "source": [
    "reference='biology-test-data/fasta/Homo_sapiens.GRCh38.dna.primary_assembly.chromosome22.fa'\n",
    "gtf='biology-test-data/gtf/HS.22.gtf'\n",
    "star_index_dir='./pybiotools/star_index'\n",
    "read_length=99\n",
    "fq1='./biology-test-data/fastq/HS.22.r1.fq.gz'\n",
    "fq2='./biology-test-data/fastq/HS.22.r2.fq.gz'\n",
    "prefix='./pybiotools/HS_22'\n",
    "\n",
    "print(star.cmd_build_index(star_index_dir, reference, gtf, read_length))"
   ]
  },
  {
   "cell_type": "code",
   "execution_count": 11,
   "metadata": {},
   "outputs": [
    {
     "name": "stdout",
     "output_type": "stream",
     "text": [
      "STAR --runThreadN 16 \\\n",
      "--outSAMstrandField intronMotif \\\n",
      "--readFilesCommand zcat \\\n",
      "--outSAMtype BAM SortedByCoordinate \\\n",
      "    --genomeDir ./pybiotools/star_index \\\n",
      "    --readFilesIn ./biology-test-data/fastq/HS.22.r1.fq.gz ./biology-test-data/fastq/HS.22.r2.fq.gz \\\n",
      "    --outFileNamePrefix ./pybiotools/HS_22 \\\n",
      "    --sjdbGTFfile biology-test-data/gtf/HS.22.gtf  \\\n",
      "    --sjdbOverhang 99\n"
     ]
    }
   ],
   "source": [
    "print(star.cmd_align(star_index_dir, fq1, fq2, prefix, gtf, read_length,miRNA=False))"
   ]
  },
  {
   "cell_type": "code",
   "execution_count": 12,
   "metadata": {},
   "outputs": [
    {
     "name": "stdout",
     "output_type": "stream",
     "text": [
      "STAR --runThreadN 16 \\\n",
      "--outSAMstrandField intronMotif \\\n",
      "--readFilesCommand zcat \\\n",
      "--outSAMtype BAM SortedByCoordinate \\\n",
      "    --genomeDir ./pybiotools/star_index \\\n",
      "    --readFilesIn ./biology-test-data/fastq/HS.22.r1.fq.gz  \\\n",
      "    --outFileNamePrefix ./pybiotools/HS_22_mirna \\\n",
      "    --sjdbGTFfile biology-test-data/gtf/HS.22.gtf  \\\n",
      "    --sjdbOverhang 99 --alignEndsType EndToEnd \\\n",
      "--outFilterMismatchNmax 1 \\\n",
      "--outFilterMultimapScoreRange 0 \\\n",
      "--quantMode TranscriptomeSAM GeneCounts \\\n",
      "--outReadsUnmapped Fastx  \\\n",
      "--outFilterMultimapNmax 10 \\\n",
      "--outSAMunmapped Within \\\n",
      "--outFilterScoreMinOverLread 0 \\\n",
      "--outFilterMatchNminOverLread 0 \\\n",
      "--outFilterMatchNmin 16 \\\n",
      "--alignSJDBoverhangMin 1000 \\\n",
      "--alignIntronMax 1 \\\n",
      "--outWigType wiggle \\\n",
      "--outWigStrand Stranded \\\n",
      "--outWigNorm RPM\n"
     ]
    }
   ],
   "source": [
    "print(star.cmd_align(star_index_dir, fq1, '', prefix+'_mirna', gtf, read_length,miRNA=True))"
   ]
  },
  {
   "cell_type": "code",
   "execution_count": null,
   "metadata": {},
   "outputs": [],
   "source": []
  },
  {
   "cell_type": "code",
   "execution_count": null,
   "metadata": {},
   "outputs": [],
   "source": []
  }
 ],
 "metadata": {
  "kernelspec": {
   "display_name": "Python 3",
   "language": "python",
   "name": "python3"
  },
  "language_info": {
   "codemirror_mode": {
    "name": "ipython",
    "version": 3
   },
   "file_extension": ".py",
   "mimetype": "text/x-python",
   "name": "python",
   "nbconvert_exporter": "python",
   "pygments_lexer": "ipython3",
   "version": "3.7.3"
  }
 },
 "nbformat": 4,
 "nbformat_minor": 4
}
