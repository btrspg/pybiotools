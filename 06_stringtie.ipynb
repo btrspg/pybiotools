{
 "cells": [
  {
   "cell_type": "code",
   "execution_count": null,
   "metadata": {},
   "outputs": [],
   "source": [
    "# default_exp softwares.bam.stringtie"
   ]
  },
  {
   "cell_type": "markdown",
   "metadata": {},
   "source": [
    "# stringtie"
   ]
  },
  {
   "cell_type": "code",
   "execution_count": null,
   "metadata": {},
   "outputs": [],
   "source": [
    "# export\n",
    "\n",
    "from pybiotools.base import Base,modify_cmd"
   ]
  },
  {
   "cell_type": "code",
   "execution_count": null,
   "metadata": {},
   "outputs": [],
   "source": [
    "# export\n",
    "\n",
    "class Stringtie(Base):\n",
    "    def __init__(self, software, fd):\n",
    "        super(Stringtie, self).__init__(software)\n",
    "        self._default = fd\n",
    "\n",
    "    def cmd_version(self):\n",
    "        '''\n",
    "        :return:\n",
    "        '''\n",
    "        return 'echo {repr} ;{software} --version'.format(\n",
    "            repr=self.__repr__(),\n",
    "            software=self._software\n",
    "        )\n",
    "\n",
    "    @modify_cmd\n",
    "    def cmd_assemble_transcript(self, bams, outgtf, abundance,annogtf):\n",
    "        '''\n",
    "        :param bams:\n",
    "        :param outgtf:\n",
    "        :param abundance:\n",
    "        :param annogtf:\n",
    "        :return:\n",
    "        '''\n",
    "        return r'''\n",
    "{stringtie} {assemble_transcript} \\\n",
    "            -o {outgtf} \\\n",
    "            -G {annogtf} \\\n",
    "            -A {abundance} \\\n",
    "            {bams}        \n",
    "        '''.format(\n",
    "            stringtie=self._software,\n",
    "            bams=bams if isinstance(bams, str) else ' '.join(bams),\n",
    "            assemble_transcript=self._default['assemble_transcript'],\n",
    "            outgtf=outgtf,\n",
    "            annogtf=annogtf,\n",
    "            abundance=abundance\n",
    "\n",
    "        )\n",
    "\n",
    "    @modify_cmd\n",
    "    def cmd_merge_gtf(self, gtfs, output, tag=None):\n",
    "        '''\n",
    "        :param gtfs:\n",
    "        :param output:\n",
    "        :param tag:\n",
    "        :param nt:\n",
    "        :return:\n",
    "        '''\n",
    "        if tag is None:\n",
    "            tag = ' -l MERGE'\n",
    "        else:\n",
    "            tag = ' -l ' + tag\n",
    "        return r'''\n",
    "{stringtie} {merge_paras} {tag} \\\n",
    "    -o {output} \\\n",
    "    {gtfs}     \n",
    "    '''.format(\n",
    "            stringtie=self._software,\n",
    "            gtfs=gtfs if isinstance(gtfs, str) else ' '.join(gtfs),\n",
    "            merge_paras=self._default.merge,\n",
    "            nt=self._default.nt if None is nt else nt,\n",
    "            output=output,\n",
    "            tag=tag\n",
    "\n",
    "        )\n",
    "\n",
    "    def __repr__(self):\n",
    "        return 'stringtie:' + self._software\n",
    "\n",
    "    def __str__(self):\n",
    "        return 'Transcript assembly and quantification for RNA-Seq'\n"
   ]
  },
  {
   "cell_type": "code",
   "execution_count": null,
   "metadata": {},
   "outputs": [
    {
     "data": {
      "text/plain": [
       "stringtie:stringtie"
      ]
     },
     "execution_count": null,
     "metadata": {},
     "output_type": "execute_result"
    }
   ],
   "source": [
    "import configparser\n",
    "\n",
    "config=configparser.ConfigParser()\n",
    "config.read('pybiotools/default.ini')\n",
    "\n",
    "\n",
    "\n",
    "stringtie=Stringtie('stringtie',config['stringtie'])\n",
    "stringtie"
   ]
  },
  {
   "cell_type": "code",
   "execution_count": null,
   "metadata": {},
   "outputs": [],
   "source": [
    "reference='biology-test-data/fasta/Homo_sapiens.GRCh38.dna.primary_assembly.chromosome22.fa'\n",
    "gtf_file='biology-test-data/gtf/HS.22.gtf'\n",
    "\n",
    "outbam_pe='./pybiotools/hisat_pe.bam'\n",
    "outbam_se='./pybiotools/hisat_se.bam'\n",
    "bams = [outbam_pe,outbam_se]\n",
    "outgtf='./pybiotools/stringtie.gtf'\n",
    "abundance='./pybiotools/stringtie.txt'"
   ]
  },
  {
   "cell_type": "code",
   "execution_count": null,
   "metadata": {},
   "outputs": [
    {
     "data": {
      "text/plain": [
       "'echo stringtie:stringtie ;stringtie --version'"
      ]
     },
     "execution_count": null,
     "metadata": {},
     "output_type": "execute_result"
    }
   ],
   "source": [
    "stringtie.cmd_version()"
   ]
  },
  {
   "cell_type": "code",
   "execution_count": null,
   "metadata": {},
   "outputs": [
    {
     "name": "stdout",
     "output_type": "stream",
     "text": [
      "stringtie -p 16 -e \\\n",
      "            -o ./pybiotools/stringtie.gtf \\\n",
      "            -G biology-test-data/gtf/HS.22.gtf \\\n",
      "            -A ./pybiotools/stringtie.txt \\\n",
      "            ./pybiotools/hisat_pe.bam ./pybiotools/hisat_se.bam\n"
     ]
    }
   ],
   "source": [
    "print(stringtie.cmd_assemble_transcript(bams, outgtf, abundance,gtf_file))"
   ]
  },
  {
   "cell_type": "code",
   "execution_count": null,
   "metadata": {},
   "outputs": [],
   "source": []
  }
 ],
 "metadata": {
  "kernelspec": {
   "display_name": "Python 3",
   "language": "python",
   "name": "python3"
  }
 },
 "nbformat": 4,
 "nbformat_minor": 4
}
