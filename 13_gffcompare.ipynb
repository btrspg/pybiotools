{
 "cells": [
  {
   "cell_type": "code",
   "execution_count": null,
   "metadata": {},
   "outputs": [],
   "source": [
    "# default_exp softwares.gtf.gffcompare"
   ]
  },
  {
   "cell_type": "markdown",
   "metadata": {},
   "source": [
    "# gffcompare"
   ]
  },
  {
   "cell_type": "code",
   "execution_count": null,
   "metadata": {},
   "outputs": [],
   "source": [
    "# export\n",
    "\n",
    "from pybiotools4p.softwares.base import Base, modify_cmd\n"
   ]
  },
  {
   "cell_type": "code",
   "execution_count": null,
   "metadata": {},
   "outputs": [],
   "source": [
    "# export\n",
    "\n",
    "class Gffcompare(Base):\n",
    "    def __init__(self, software, fd):\n",
    "        super(Gffcompare, self).__init__(software)\n",
    "        self._default = fd\n",
    "\n",
    "    def cmd_version(self):\n",
    "        '''\n",
    "        :return:\n",
    "        '''\n",
    "        return 'echo {repr} ;echo $({software} --version)'.format(\n",
    "            repr=self.__repr__(),\n",
    "            software=self._software\n",
    "        )\n",
    "\n",
    "    @modify_cmd\n",
    "    def cmd_gffcompare(self, gtflist, reference, prefix, gtfs):\n",
    "        '''\n",
    "        :param gtflist:\n",
    "        :param reference:\n",
    "        :param prefix:\n",
    "        :param extend_para: -M -N\n",
    "        :param gtfs:\n",
    "        :return:\n",
    "        '''\n",
    "        cmd = ''\n",
    "        if None is gtflist or gtflist == '':\n",
    "            cmd = cmd + ' '.join(gtfs)\n",
    "            \n",
    "        else:\n",
    "            cmd = cmd + ' -i ' + gtflist\n",
    "\n",
    "        return r'''\n",
    "{gffcompare} {gffcompare_default} \\\n",
    "            -o {prefix} \\\n",
    "            -r {reference} \\\n",
    "            {cmd} \n",
    "        '''.format(\n",
    "            gffcompare=self._software,\n",
    "            gffcompare_default=self._default['default'],\n",
    "            prefix=prefix,\n",
    "            reference=reference,\n",
    "            cmd=cmd,\n",
    "        )\n",
    "\n",
    "    def __repr__(self):\n",
    "        return 'gffcompare:' + self._software\n",
    "\n",
    "    def __str__(self):\n",
    "        return 'Program for processing GTF/GFF files'"
   ]
  },
  {
   "cell_type": "code",
   "execution_count": null,
   "metadata": {},
   "outputs": [
    {
     "data": {
      "text/plain": [
       "gffcompare:gffcompare"
      ]
     },
     "execution_count": null,
     "metadata": {},
     "output_type": "execute_result"
    }
   ],
   "source": [
    "import configparser\n",
    "\n",
    "config=configparser.ConfigParser()\n",
    "config.read('pybiotools4p/default.ini')\n",
    "\n",
    "\n",
    "\n",
    "gffcompare=Gffcompare('gffcompare',config['gffcompare'])\n",
    "gffcompare"
   ]
  },
  {
   "cell_type": "code",
   "execution_count": null,
   "metadata": {},
   "outputs": [
    {
     "data": {
      "text/plain": [
       "'echo gffcompare:gffcompare ;echo $(gffcompare --version)'"
      ]
     },
     "execution_count": null,
     "metadata": {},
     "output_type": "execute_result"
    }
   ],
   "source": [
    "gffcompare.cmd_version()"
   ]
  },
  {
   "cell_type": "code",
   "execution_count": null,
   "metadata": {},
   "outputs": [
    {
     "name": "stdout",
     "output_type": "stream",
     "text": [
      "gffcompare -M -N -T \\\n",
      "            -o prefix \\\n",
      "            -r reference \\\n",
      "            gtf1 gtf2\n"
     ]
    }
   ],
   "source": [
    "print(gffcompare.cmd_gffcompare(None, 'reference', 'prefix', ['gtf1','gtf2']))"
   ]
  },
  {
   "cell_type": "code",
   "execution_count": null,
   "metadata": {},
   "outputs": [],
   "source": []
  }
 ],
 "metadata": {
  "kernelspec": {
   "display_name": "Python 3",
   "language": "python",
   "name": "python3"
  }
 },
 "nbformat": 4,
 "nbformat_minor": 4
}
