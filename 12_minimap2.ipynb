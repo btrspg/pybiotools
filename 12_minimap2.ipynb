{
 "cells": [
  {
   "cell_type": "code",
   "execution_count": null,
   "metadata": {},
   "outputs": [],
   "source": [
    "# default_exp softwares.fastq.minimap2"
   ]
  },
  {
   "cell_type": "markdown",
   "metadata": {},
   "source": [
    "# minimap2"
   ]
  },
  {
   "cell_type": "code",
   "execution_count": null,
   "metadata": {},
   "outputs": [],
   "source": [
    "# export\n",
    "\n",
    "from pybiotools4p.softwares.base import Base, modify_cmd\n",
    "\n"
   ]
  },
  {
   "cell_type": "code",
   "execution_count": null,
   "metadata": {},
   "outputs": [],
   "source": [
    "# export \n",
    "\n",
    "class Minimap2(Base):\n",
    "    def __init__(self, software, fd):\n",
    "        super(Minimap2, self).__init__(software)\n",
    "        self._default = fd\n",
    "        \n",
    "    @modify_cmd\n",
    "    def cmd_version(self):\n",
    "        '''\n",
    "        :return:\n",
    "        '''\n",
    "        return 'echo {repr} ;{software} --version'.format(\n",
    "            repr=self.__repr__(),\n",
    "            software=self._software\n",
    "        )\n",
    "\n",
    "    @modify_cmd\n",
    "    def cmd_splice_align(self,reference,fastq,samtools,samtools_idx,outbam):\n",
    "        \n",
    "        return r'''\n",
    "{software} {splice_align} -a {reference} {fastq} | {samtools_sam2bam} | {samtools_sort} \n",
    "{samtools_index}\n",
    "        '''.format(\n",
    "            software=self._software,\n",
    "            splice_align=self._default['splice_align'],\n",
    "            samtools_sam2bam=samtools.cmd_sam2bam(samtools_idx, '-', bamfile=None),\n",
    "            samtools_sort=samtools.cmd_sort('-', sortbam=outbam),\n",
    "            samtools_index=samtools.cmd_index(outbam),\n",
    "            **locals()\n",
    "        )\n",
    "\n",
    "    @modify_cmd\n",
    "    def cmd_nonsplice_align(self,reference,fastq,samtools,samtools_idx,outbam):\n",
    "        \n",
    "        return r'''\n",
    "{software} {nonsplice_align} -a {reference} {fastq} | {samtools_sam2bam} | {samtools_sort} \n",
    "{samtools_index}\n",
    "        '''.format(\n",
    "            software=self._software,\n",
    "            nonsplice_align=self._default['nonsplice_align'],\n",
    "            samtools_sam2bam=samtools.cmd_sam2bam(samtools_idx, '-', bamfile=None),\n",
    "            samtools_sort=samtools.cmd_sort('-', sortbam=outbam),\n",
    "            samtools_index=samtools.cmd_index(outbam),\n",
    "            **locals()\n",
    "        )\n",
    "\n",
    "    def __repr__(self):\n",
    "        return 'minimap2:' + self._software\n",
    "\n",
    "    def __str__(self):\n",
    "        return 'A versatile pairwise aligner for genomic and spliced nucleotide sequences'"
   ]
  },
  {
   "cell_type": "code",
   "execution_count": null,
   "metadata": {},
   "outputs": [],
   "source": [
    "import configparser\n",
    "\n",
    "config=configparser.ConfigParser()\n",
    "config.read('pybiotools4p/default.ini')\n",
    "\n",
    "from pybiotools4p.softwares.bam.samtools import Samtools\n",
    "\n",
    "samtools=Samtools('samtools',config['samtools'])\n",
    "minimap2=Minimap2('minimap2',config['minimap2'])\n"
   ]
  },
  {
   "cell_type": "code",
   "execution_count": null,
   "metadata": {},
   "outputs": [],
   "source": [
    "reference='biology-test-data/fasta/Homo_sapiens.GRCh38.dna.primary_assembly.chromosome22.fa'\n",
    "samtools_idx='biology-test-data/fasta/Homo_sapiens.GRCh38.dna.primary_assembly.chromosome22.fa.fai'\n",
    "fastq = '/path/to/fastq'\n",
    "outbam='/path/to/bam'"
   ]
  },
  {
   "cell_type": "code",
   "execution_count": null,
   "metadata": {},
   "outputs": [
    {
     "name": "stdout",
     "output_type": "stream",
     "text": [
      "minimap2 -ax splice -uf -k 14 -G 10000 -a biology-test-data/fasta/Homo_sapiens.GRCh38.dna.primary_assembly.chromosome22.fa /path/to/fastq | samtools view -bSt biology-test-data/fasta/Homo_sapiens.GRCh38.dna.primary_assembly.chromosome22.fa.fai - | samtools sort - -o /path/to/bam \n",
      "samtools index /path/to/bam\n"
     ]
    }
   ],
   "source": [
    "print(minimap2.cmd_splice_align(reference,fastq,samtools,samtools_idx,outbam))"
   ]
  },
  {
   "cell_type": "code",
   "execution_count": null,
   "metadata": {},
   "outputs": [
    {
     "name": "stdout",
     "output_type": "stream",
     "text": [
      "minimap2 -ax map-ont -a biology-test-data/fasta/Homo_sapiens.GRCh38.dna.primary_assembly.chromosome22.fa /path/to/fastq | samtools view -bSt biology-test-data/fasta/Homo_sapiens.GRCh38.dna.primary_assembly.chromosome22.fa.fai - | samtools sort - -o /path/to/bam \n",
      "samtools index /path/to/bam\n"
     ]
    }
   ],
   "source": [
    "print(minimap2.cmd_nonsplice_align(reference,fastq,samtools,samtools_idx,outbam))"
   ]
  },
  {
   "cell_type": "code",
   "execution_count": null,
   "metadata": {},
   "outputs": [],
   "source": []
  }
 ],
 "metadata": {
  "kernelspec": {
   "display_name": "Python 3",
   "language": "python",
   "name": "python3"
  }
 },
 "nbformat": 4,
 "nbformat_minor": 4
}
