{
 "cells": [
  {
   "cell_type": "code",
   "execution_count": null,
   "metadata": {},
   "outputs": [],
   "source": [
    "# default_exp softwares.fasta.gffread"
   ]
  },
  {
   "cell_type": "markdown",
   "metadata": {},
   "source": [
    "# gffread"
   ]
  },
  {
   "cell_type": "code",
   "execution_count": null,
   "metadata": {},
   "outputs": [],
   "source": [
    "# export\n",
    "\n",
    "from pybiotools.softwares.base import Base,modify_cmd"
   ]
  },
  {
   "cell_type": "code",
   "execution_count": null,
   "metadata": {},
   "outputs": [],
   "source": [
    "# export\n",
    "\n",
    "class Gffread(Base):\n",
    "    def __init__(self, software, fd):\n",
    "        super(Gffread, self).__init__(software)\n",
    "        self._default = fd\n",
    "\n",
    "    def cmd_version(self):\n",
    "        '''\n",
    "        :return:\n",
    "        '''\n",
    "        return 'echo {repr} ;{software} --version'.format(\n",
    "            repr=self.__repr__(),\n",
    "            software=self._software\n",
    "        )\n",
    "\n",
    "    @modify_cmd\n",
    "    def cmd_extract_fasta(self, output_file, coding_file, noncoding_file):\n",
    "        '''\n",
    "\n",
    "        :param output_file:\n",
    "        :param coding_file:\n",
    "        :param noncoding_file:\n",
    "        :return:\n",
    "        '''\n",
    "\n",
    "\n",
    "        return r'''\n",
    "{software} {para} \\\n",
    "        {gtf} \\\n",
    "        -g {reference} \\\n",
    "        -w {output}\n",
    "            '''.format(\n",
    "                train_para=self._default['train'],\n",
    "                software=self._software,\n",
    "                **locals()\n",
    "            )\n",
    "\n",
    "\n",
    "\n",
    "    def __repr__(self):\n",
    "        return 'gffread:' + self._software\n",
    "\n",
    "    def __str__(self):\n",
    "        return 'GFF/GTF utility providing format conversions, ' \\\n",
    "               'filtering, FASTA sequence extraction and more.'"
   ]
  }
 ],
 "metadata": {
  "kernelspec": {
   "display_name": "Python 3",
   "language": "python",
   "name": "python3"
  }
 },
 "nbformat": 4,
 "nbformat_minor": 0
}
