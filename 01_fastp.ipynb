{
 "cells": [
  {
   "cell_type": "code",
   "execution_count": null,
   "metadata": {},
   "outputs": [],
   "source": [
    "# default_exp softwares.fastq.fastp"
   ]
  },
  {
   "cell_type": "markdown",
   "metadata": {},
   "source": [
    "# fastp"
   ]
  },
  {
   "cell_type": "code",
   "execution_count": null,
   "metadata": {},
   "outputs": [],
   "source": [
    "# export\n",
    "\n",
    "from pybiotools.base import Base,modify_cmd"
   ]
  },
  {
   "cell_type": "code",
   "execution_count": null,
   "metadata": {},
   "outputs": [],
   "source": [
    "# export\n",
    "\n",
    "class Fastp(Base):\n",
    "    def __init__(self, software, fd):\n",
    "        super(Fastp, self).__init__(software)\n",
    "        self._default = fd\n",
    "\n",
    "    def cmd_version(self):\n",
    "        '''\n",
    "        :return:\n",
    "        '''\n",
    "        return 'echo {repr} ;{software} --version'.format(\n",
    "            repr=self.__repr__(),\n",
    "            software=self._software\n",
    "        )\n",
    "\n",
    "    @modify_cmd\n",
    "    def cmd_clean_data(self, fq1, cfq1, fq2, cfq2, report_prefix):\n",
    "        '''\n",
    "        :param fq1:\n",
    "        :param cfq1:\n",
    "        :param fq2:\n",
    "        :param cfq2:\n",
    "        :param report_prefix:\n",
    "        :return:\n",
    "        '''\n",
    "\n",
    "        if fq2 in ['',None]:\n",
    "            return r'''\n",
    "{software} {se} \\\n",
    "        -i {fq1} \\\n",
    "        -o {cfq1} \\\n",
    "        --html {report_prefix}.fastp.html \\\n",
    "        --json {report_prefix}.fastp.json \n",
    "            '''.format(\n",
    "                se=self._default['se'],\n",
    "                software=self._software,\n",
    "                **locals()\n",
    "            )\n",
    "        else:\n",
    "            return r'''\n",
    "{software} {pe} \\\n",
    "        -i {fq1} \\\n",
    "        -I {fq2} \\\n",
    "        -o {cfq1} \\\n",
    "        -O {cfq2} \\\n",
    "        --html {report_prefix}.fastp.html \\\n",
    "        --json {report_prefix}.fastp.json \n",
    "            '''.format(\n",
    "                pe=self._default['pe'],\n",
    "                software=self._software,\n",
    "                **locals())\n",
    "\n",
    "    def __repr__(self):\n",
    "        return 'fastp:' + self._software\n",
    "\n",
    "    def __str__(self):\n",
    "        return 'A tool designed to provide fast all-in-one preprocessing for FastQ files. This tool is developed ' \\\n",
    "               'in C++ with multithreading supported to afford high performance.'"
   ]
  },
  {
   "cell_type": "code",
   "execution_count": null,
   "metadata": {},
   "outputs": [
    {
     "data": {
      "text/plain": [
       "fastp:fastp"
      ]
     },
     "execution_count": null,
     "metadata": {},
     "output_type": "execute_result"
    }
   ],
   "source": [
    "import configparser\n",
    "\n",
    "config=configparser.ConfigParser()\n",
    "config.read('pybiotools/default.ini')\n",
    "\n",
    "fastp=Fastp('fastp',config['fastp'])\n",
    "fastp"
   ]
  },
  {
   "cell_type": "code",
   "execution_count": null,
   "metadata": {},
   "outputs": [
    {
     "name": "stdout",
     "output_type": "stream",
     "text": [
      "A tool designed to provide fast all-in-one preprocessing for FastQ files. This tool is developed in C++ with multithreading supported to afford high performance.\n"
     ]
    }
   ],
   "source": [
    "print(fastp)"
   ]
  },
  {
   "cell_type": "code",
   "execution_count": null,
   "metadata": {},
   "outputs": [
    {
     "name": "stdout",
     "output_type": "stream",
     "text": [
      "echo fastp:fastp ;fastp --version\n"
     ]
    }
   ],
   "source": [
    "print(fastp.cmd_version())"
   ]
  },
  {
   "cell_type": "code",
   "execution_count": null,
   "metadata": {},
   "outputs": [
    {
     "name": "stdout",
     "output_type": "stream",
     "text": [
      "\n",
      "fastp pe \\\n",
      "        -i ./biology-test-data/fastq/HS.22.r1.fq.gz \\\n",
      "        -I ./biology-test-data/fastq/HS.22.r2.fq.gz \\\n",
      "        -o ./pybiotools/HS_22_clean_r1.fq.gz \\\n",
      "        -O ./pybiotools/HS_22_clean_r2.fq.gz \\\n",
      "        --html ./pybiotools/HS_22.fastp.html \\\n",
      "        --json ./pybiotools/HS_22.fastp.json \n",
      "            \n"
     ]
    }
   ],
   "source": [
    "fq1='./biology-test-data/fastq/HS.22.r1.fq.gz'\n",
    "fq2='./biology-test-data/fastq/HS.22.r2.fq.gz'\n",
    "cfq1='./pybiotools/HS_22_clean_r1.fq.gz'\n",
    "cfq2='./pybiotools/HS_22_clean_r2.fq.gz'\n",
    "report_prefix='./pybiotools/HS_22'\n",
    "\n",
    "print(fastp.cmd_clean_data(fq1,cfq1,fq2,cfq2,report_prefix))"
   ]
  },
  {
   "cell_type": "code",
   "execution_count": null,
   "metadata": {},
   "outputs": [
    {
     "name": "stdout",
     "output_type": "stream",
     "text": [
      "\n",
      "fastp se \\\n",
      "        -i ./biology-test-data/fastq/HS.22.r1.fq.gz \\\n",
      "        -o ./pybiotools/HS_22_se_clean_r1.fq.gz \\\n",
      "        --html ./pybiotools/HS_22se.fastp.html \\\n",
      "        --json ./pybiotools/HS_22se.fastp.json \n",
      "            \n"
     ]
    }
   ],
   "source": [
    "fq2=''\n",
    "cfq1='./pybiotools/HS_22_se_clean_r1.fq.gz'\n",
    "print(fastp.cmd_clean_data(fq1,cfq1,fq2,cfq2,report_prefix+'se'))"
   ]
  },
  {
   "cell_type": "code",
   "execution_count": null,
   "metadata": {},
   "outputs": [],
   "source": []
  },
  {
   "cell_type": "code",
   "execution_count": null,
   "metadata": {},
   "outputs": [],
   "source": []
  }
 ],
 "metadata": {
  "kernelspec": {
   "display_name": "Python 3",
   "language": "python",
   "name": "python3"
  }
 },
 "nbformat": 4,
 "nbformat_minor": 4
}
