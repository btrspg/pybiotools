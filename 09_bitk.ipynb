{
 "cells": [
  {
   "cell_type": "code",
   "execution_count": null,
   "metadata": {},
   "outputs": [],
   "source": [
    "# default_exp softwares.inhouse.bitk"
   ]
  },
  {
   "cell_type": "markdown",
   "metadata": {},
   "source": [
    "# bitk"
   ]
  },
  {
   "cell_type": "code",
   "execution_count": null,
   "metadata": {},
   "outputs": [],
   "source": [
    "# export\n",
    "\n",
    "\n",
    "from pybiotools.softwares.base import Base, modify_cmd\n"
   ]
  },
  {
   "cell_type": "code",
   "execution_count": null,
   "metadata": {},
   "outputs": [],
   "source": [
    "# export\n",
    "\n",
    "\n",
    "class Bitk(Base):\n",
    "    def __init__(self, software, fd):\n",
    "        super(Bitk, self).__init__(software)\n",
    "        self._default = fd\n",
    "        if '/' in software:\n",
    "            bin = os.path.dirname(software) + '/'\n",
    "        else:\n",
    "            bin = ''\n",
    "        self._dedim = bin + 'dedim.py'\n",
    "        self._fc_rename = bin + 'fc_rename.py'\n",
    "        \n",
    "        \n",
    "\n",
    "    def cmd_version(self):\n",
    "        '''\n",
    "        :return:\n",
    "        '''\n",
    "        return 'echo {repr} ;{software} --version'.format(\n",
    "            repr=self.__repr__(),\n",
    "            software=self._dedim\n",
    "        )\n",
    "\n",
    "    @modify_cmd\n",
    "    def cmd_dedim(self, count,prefix,clinical,size,style,title):\n",
    "        '''\n",
    "        '''\n",
    "        return r'''\n",
    "{software}  {count} {prefix} \\\n",
    "            --annotation {clinical} \\\n",
    "            --size {size} \\\n",
    "            --style {style} \\\n",
    "            -t {title} \\\n",
    "            {dedim_para}\n",
    "        '''.format(\n",
    "            software=self._dedim,\n",
    "            dedim_para=self._default['dedim'],\n",
    "            **locals()\n",
    "        )\n",
    "    \n",
    "    @modify_cmd\n",
    "    def cmd_fc_rename(self, fc,clinical,prefix,sample_title,bam_title,count_title):\n",
    "        '''\n",
    "        '''\n",
    "        return r'''\n",
    "{software} {fc} {clinical} {prefix} \\\n",
    "        -s {sample_title} \\\n",
    "        -b {bam_title} \\\n",
    "        -c {count_title}\n",
    "        '''.format(\n",
    "            software=self._fc_rename,\n",
    "            **locals()\n",
    "        )\n",
    "\n",
    "    def __repr__(self):\n",
    "        return 'inhouse python package:' + self._software\n",
    "\n",
    "    def __str__(self):\n",
    "        return '''\n",
    "In-house python package, https://github.com/btrspg/bitk.git\n",
    "        '''"
   ]
  },
  {
   "cell_type": "code",
   "execution_count": null,
   "metadata": {},
   "outputs": [],
   "source": [
    "import configparser\n",
    "\n",
    "config=configparser.ConfigParser()\n",
    "config.read('pybiotools/default.ini')\n",
    "\n",
    "bitk=Bitk(config['software']['bitk'],config['bitk'])\n",
    "fc='tests/fc.txt'\n",
    "clinical='tests/clinical.txt'\n",
    "prefix='tests/rename'\n",
    "sample_title='sample'\n",
    "bam_title='starbam'\n",
    "count_title='gene_name'\n",
    "\n",
    "count='tests/count.txt'\n",
    "size='info1'\n",
    "style='info2'\n",
    "title='test'"
   ]
  },
  {
   "cell_type": "code",
   "execution_count": null,
   "metadata": {},
   "outputs": [
    {
     "data": {
      "text/plain": [
       "inhouse python package:dedim.py"
      ]
     },
     "execution_count": null,
     "metadata": {},
     "output_type": "execute_result"
    }
   ],
   "source": [
    "bitk"
   ]
  },
  {
   "cell_type": "code",
   "execution_count": null,
   "metadata": {},
   "outputs": [
    {
     "name": "stdout",
     "output_type": "stream",
     "text": [
      "\n",
      "In-house python package, https://github.com/btrspg/bitk.git\n",
      "        \n"
     ]
    }
   ],
   "source": [
    "print(bitk)"
   ]
  },
  {
   "cell_type": "code",
   "execution_count": null,
   "metadata": {},
   "outputs": [
    {
     "data": {
      "text/plain": [
       "'echo inhouse python package:dedim.py ;dedim.py --version'"
      ]
     },
     "execution_count": null,
     "metadata": {},
     "output_type": "execute_result"
    }
   ],
   "source": [
    "bitk.cmd_version()"
   ]
  },
  {
   "cell_type": "code",
   "execution_count": null,
   "metadata": {},
   "outputs": [
    {
     "name": "stdout",
     "output_type": "stream",
     "text": [
      "fc_rename.py tests/fc.txt tests/clinical.txt tests/rename \\\n",
      "        -s sample \\\n",
      "        -b starbam \\\n",
      "        -c gene_name\n"
     ]
    }
   ],
   "source": [
    "print(bitk.cmd_fc_rename(fc,clinical,prefix,sample_title,bam_title,count_title))"
   ]
  },
  {
   "cell_type": "code",
   "execution_count": null,
   "metadata": {},
   "outputs": [
    {
     "name": "stdout",
     "output_type": "stream",
     "text": [
      "dedim.py  tests/count.txt tests/rename \\\n",
      "            --annotation tests/clinical.txt \\\n",
      "            --size info1 \\\n",
      "            --style info2 \\\n",
      "            -t test \\\n",
      "            --dedimensions-method TSNE \\\n",
      "--cluster-method MiniBatchKMeans \\\n",
      "--assess-method silhouette_score \\\n",
      "--dimensions 3 \\\n",
      "-r\n"
     ]
    }
   ],
   "source": [
    "print(bitk.cmd_dedim(count,prefix,clinical,size,style,title))"
   ]
  },
  {
   "cell_type": "code",
   "execution_count": null,
   "metadata": {},
   "outputs": [],
   "source": []
  },
  {
   "cell_type": "code",
   "execution_count": null,
   "metadata": {},
   "outputs": [],
   "source": []
  }
 ],
 "metadata": {
  "kernelspec": {
   "display_name": "Python 3",
   "language": "python",
   "name": "python3"
  }
 },
 "nbformat": 4,
 "nbformat_minor": 4
}
