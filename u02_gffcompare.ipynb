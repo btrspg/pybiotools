{
 "cells": [
  {
   "cell_type": "code",
   "execution_count": 1,
   "metadata": {},
   "outputs": [],
   "source": [
    "# default_exp cmdutils.cmdgffcompare"
   ]
  },
  {
   "cell_type": "markdown",
   "metadata": {},
   "source": [
    "# cmdgffcompare"
   ]
  },
  {
   "cell_type": "code",
   "execution_count": 2,
   "metadata": {},
   "outputs": [],
   "source": [
    "# export\n",
    "\n",
    "import yaml"
   ]
  },
  {
   "cell_type": "code",
   "execution_count": null,
   "metadata": {},
   "outputs": [],
   "source": [
    "# export\n",
    "\n",
    "def gffcompare_multiple_gtf_tracking(tracking_file,outdir,*,names=None,split=True):\n",
    "    '''\n",
    "    The tracking file in results of gffcompare -r anno.gtf 1.gtf 2.gtf 3.gtf ...\n",
    "    Extract transcript list for each sample, which would be used to draw venn diagram\n",
    "    \n",
    "    :param str tracking_file: tracking file\n",
    "    :param str outdir: output direction\n",
    "    :param list[str] names: names correspanding to q1,q2... in tracking file\n",
    "    :param bool split: wheather split different tags in to different files, if not, only consider class_code '=' and other than that.\n",
    "    '''\n",
    "    \n",
    "    tags = {\n",
    "        '=':'known'\n",
    "    }\n",
    "    new_tag={}\n",
    "    records= {}\n",
    "    nt_ot={}\n",
    "    with open(tracking_file,'r') as tr:\n",
    "        line = tr.readline()\n",
    "        while line:\n",
    "            cells = line.strip().split('\\t')\n",
    "            if split:\n",
    "                tag = tags.get(cells[3],cells[3])\n",
    "            else:\n",
    "                tag = tags.get(cells[3],'unknown')\n",
    "            new_tag.setdefault(tag,0)\n",
    "            new_tag[tag]+=1\n",
    "            tag_name = f'{tag}_{new_tag[tag]}'\n",
    "            sample_infos = cells[4:]\n",
    "            nt_ot[tag_name]=' '.join(cells[:3])\n",
    "            for si in sample_infos:\n",
    "                if si != '-':\n",
    "                    name=sample_name_in_tracking(si.split(':')[0],names)\n",
    "                    records.setdefault(name,{})\n",
    "                    records[name].setdefault(tag,[])\n",
    "                    records[name][tag].append(tag_name)\n",
    "                \n",
    "            line=tr.readline()\n",
    "    for sample in records:\n",
    "        for t in records[sample]:\n",
    "            with open(f'{outdir}/{sample}_{t}.txt','w') as out:\n",
    "                out.write('\\n'.join(records[sample][t]))\n",
    "    with open(f'{outdir}/track_name.yaml','w') as y:\n",
    "        yaml.dump(nt_ot,y)\n",
    "            \n",
    "def sample_name_in_tracking(q_n,names=None):\n",
    "    if None is names:\n",
    "        return q_n\n",
    "    else:\n",
    "        return names[int(q_n.replace('q',''))-1]"
   ]
  }
 ],
 "metadata": {
  "kernelspec": {
   "display_name": "Python 3",
   "language": "python",
   "name": "python3"
  },
  "language_info": {
   "codemirror_mode": {
    "name": "ipython",
    "version": 3
   },
   "file_extension": ".py",
   "mimetype": "text/x-python",
   "name": "python",
   "nbconvert_exporter": "python",
   "pygments_lexer": "ipython3",
   "version": "3.7.3"
  }
 },
 "nbformat": 4,
 "nbformat_minor": 4
}
