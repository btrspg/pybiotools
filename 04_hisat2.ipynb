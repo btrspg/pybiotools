{
 "cells": [
  {
   "cell_type": "code",
   "execution_count": 1,
   "metadata": {},
   "outputs": [],
   "source": [
    "# default_exp softwares.fastq.hisat2"
   ]
  },
  {
   "cell_type": "markdown",
   "metadata": {},
   "source": [
    "# hisat2"
   ]
  },
  {
   "cell_type": "code",
   "execution_count": 2,
   "metadata": {},
   "outputs": [],
   "source": [
    "# export\n",
    "\n",
    "from pybiotools4p.softwares.base import Base, modify_cmd\n",
    "import os"
   ]
  },
  {
   "cell_type": "code",
   "execution_count": 3,
   "metadata": {},
   "outputs": [],
   "source": [
    "# export \n",
    "\n",
    "class Hisat2(Base):\n",
    "    def __init__(self, software, fd):\n",
    "        super(Hisat2, self).__init__(software)\n",
    "        self._default = fd\n",
    "        if '/' in software:\n",
    "            bin = os.path.dirname(software) + '/'\n",
    "        else:\n",
    "            bin = ''\n",
    "        self._hisat2_build = bin + 'hisat2-build'\n",
    "        self._hisat2_extract_snps_haplotypes_UCSC = bin + 'hisat2_extract_snps_haplotypes_UCSC.py'\n",
    "        self._hisat2_align_l = bin + 'hisat2-align-l'\n",
    "        self._hisat2_extract_snps_haplotypes_VCF = bin + 'hisat2_extract_snps_haplotypes_VCF.py'\n",
    "        self._hisat2_align_s = bin + 'hisat2-align-s'\n",
    "        self._hisat2_extract_splice_sites = bin + 'hisat2_extract_splice_sites.py'\n",
    "        self._hisat2_inspect = bin + 'hisat2-inspect'\n",
    "        self._hisat2_build_l = bin + 'hisat2-build-l'\n",
    "        self._hisat2_inspect_l = bin + 'hisat2-inspect-l'\n",
    "        self._hisat2_build_s = bin + 'hisat2-build-s'\n",
    "        self._hisat2_inspect_s = bin + 'hisat2-inspect-s'\n",
    "        self._hisat2_extract_exons = bin + 'hisat2_extract_exons.py'\n",
    "        self._hisat2_simulate_reads = bin + 'hisat2_simulate_reads.py'\n",
    "\n",
    "    @modify_cmd\n",
    "    def cmd_version(self):\n",
    "        '''\n",
    "        :return:\n",
    "        '''\n",
    "        return 'echo {repr} ;{software} --version'.format(\n",
    "            repr=self.__repr__(),\n",
    "            software=self._software\n",
    "        )\n",
    "\n",
    "    @modify_cmd\n",
    "    def cmd_build_index(self, reference, genome_index_prefix, genome_ss=None, genome_exon=None,\n",
    "                        genome_genotype=None, genome_snp=None):\n",
    "        '''\n",
    "        :param reference:\n",
    "        :param genome_ss:\n",
    "        :param genome_exon:\n",
    "        :param genome_genotype:\n",
    "        :param genome_snp:\n",
    "        :param genome_index_prefix:\n",
    "        :return:\n",
    "        '''\n",
    "        option = ''\n",
    "        if None is not genome_ss:\n",
    "            option += ' --ss ' + genome_ss\n",
    "        if None is not genome_exon:\n",
    "            option += ' --exon ' + genome_exon\n",
    "        if None is not genome_genotype:\n",
    "            option += ' --haplotype ' + genome_genotype\n",
    "        if None is not genome_snp:\n",
    "            option += ' --genome_snp ' + genome_snp\n",
    "        return r'''\n",
    "{hisat_build} {build_index} {reference} {option} {genome_index_prefix}\n",
    "        '''.format(\n",
    "            hisat_build=self._hisat2_build,\n",
    "            build_index=self._default['build_index'],\n",
    "            reference=reference,\n",
    "            option=option,\n",
    "            genome_index_prefix=genome_index_prefix\n",
    "        )\n",
    "\n",
    "    @modify_cmd\n",
    "    def cmd_prepare_snp_ucsc(self,reference,snp_file,prefix):\n",
    "        '''\n",
    "        :param reference:\n",
    "        :param snp_file:\n",
    "        :param prefix:\n",
    "        :return:\n",
    "        '''\n",
    "        if None is snp_file:\n",
    "            return 'echo No snp_file'\n",
    "        return r'''\n",
    "awk 'BEGIN{{OFS=\"\\t\"}} {{if($2 ~ /^chr/) {{$2 = substr($2, 4)}}; if($2 == \"M\") {{$2 = \"MT\"}} print}}' {snp_file} \\\n",
    "    > {prefix}_snp.tmp\n",
    "{software} {reference} {prefix}_snp.tmp {prefix}        \n",
    "        '''.format(\n",
    "            software=self._hisat2_extract_snps_haplotypes_UCSC,\n",
    "            snp_file=snp_file,\n",
    "            prefix=prefix,\n",
    "            reference=reference\n",
    "        )\n",
    "\n",
    "    @modify_cmd\n",
    "    def cmd_prepare_exon_ss(self,gtf_file,prefix):\n",
    "        '''\n",
    "        :param gtf_file:\n",
    "        :param prefix:\n",
    "        :return:\n",
    "        '''\n",
    "        return r'''\n",
    "{software1} {gtf_file} > {prefix}.ss\n",
    "{software2} {gtf_file} > {prefix}.exon\n",
    "        '''.format(\n",
    "            software1=self._hisat2_extract_splice_sites,\n",
    "            software2=self._hisat2_extract_exons,\n",
    "            gtf_file=gtf_file,\n",
    "            prefix=prefix\n",
    "        )\n",
    "\n",
    " \n",
    "    def cmd_align(self, hisat2_idx, fq1, fq2, summary, samtools, samtools_idx, outbam):\n",
    "        '''\n",
    "        :param hisat2_idx:\n",
    "        :param fq1:\n",
    "        :param fq2:\n",
    "        :param summary:\n",
    "        :param samtools:\n",
    "        :param samtools_idx:\n",
    "        :param outbam:\n",
    "        :return:\n",
    "        '''\n",
    "        if None is fq2 or fq2 == '':\n",
    "            return r'''\n",
    "{hisat2} {align_paras} -x {hisat2_idx} -U {fq1}  --summary-file {summary} | {samtools_sam2bam} | {samtools_sort}\n",
    "{samtools_index}\n",
    " \n",
    "            '''.format(\n",
    "            hisat2=self._software,\n",
    "            align_paras=self._default['align'],\n",
    "            samtools_sam2bam=samtools.cmd_sam2bam(samtools_idx, '-', bamfile=None),\n",
    "            samtools_sort=samtools.cmd_sort('-', sortbam=outbam),\n",
    "            samtools_index=samtools.cmd_index(outbam),\n",
    "            **locals()\n",
    "        )\n",
    "        else:\n",
    "            return r'''\n",
    "{hisat2} {align_paras} -x {hisat2_idx} -1 {fq1} -2 {fq2} --summary-file {summary} | {samtools_sam2bam} | {samtools_sort}\n",
    "{samtools_index}\n",
    " \n",
    "            '''.format(\n",
    "            hisat2=self._software,\n",
    "            align_paras=self._default['align'],\n",
    "            samtools_sam2bam=samtools.cmd_sam2bam(samtools_idx, '-', bamfile=None),\n",
    "            samtools_sort=samtools.cmd_sort('-', sortbam=outbam),\n",
    "            samtools_index=samtools.cmd_index(outbam),\n",
    "            **locals()\n",
    "        )\n",
    "\n",
    "    def __repr__(self):\n",
    "        return 'hisat2:' + self._software\n",
    "\n",
    "    def __str__(self):\n",
    "        return 'graph-based alignment of next generation sequencing reads to a population of genomes'"
   ]
  },
  {
   "cell_type": "code",
   "execution_count": 6,
   "metadata": {},
   "outputs": [],
   "source": [
    "import configparser\n",
    "\n",
    "config=configparser.ConfigParser()\n",
    "config.read('pybiotools4p/default.ini')\n",
    "\n",
    "from pybiotools4p.softwares.bam.samtools import Samtools\n",
    "\n",
    "samtools=Samtools('samtools',config['samtools'])\n",
    "hisat2=Hisat2('hisat2',config['hisat2'])\n"
   ]
  },
  {
   "cell_type": "code",
   "execution_count": 7,
   "metadata": {},
   "outputs": [],
   "source": [
    "reference='biology-test-data/fasta/Homo_sapiens.GRCh38.dna.primary_assembly.chromosome22.fa'\n",
    "gtf_file='biology-test-data/gtf/HS.22.gtf'\n",
    "genome_index_prefix='./pybiotools/hisat2_index'\n",
    "\n",
    "fq1='./biology-test-data/fastq/HS.22.r1.fq.gz'\n",
    "fq2='./biology-test-data/fastq/HS.22.r2.fq.gz'\n",
    "prefix='./pybiotools/HS_22'\n",
    "snp_file='/path/to/snp'\n",
    "prefix='./pybiotools/tmp'\n",
    "genome_ss='./pybiotools/tmp.ss'\n",
    "genome_exon='./pybiotools/tmp.exon'\n",
    "summary_pe='./pybiotools/pe.summary.txt'\n",
    "summary_se='./pybiotools/se.summary.txt'\n",
    "samtools_idx='biology-test-data/fasta/Homo_sapiens.GRCh38.dna.primary_assembly.chromosome22.fa.fai'\n",
    "outbam_pe='./pybiotools/hisat_pe.bam'\n",
    "outbam_se='./pybiotools/hisat_se.bam'"
   ]
  },
  {
   "cell_type": "code",
   "execution_count": 8,
   "metadata": {},
   "outputs": [
    {
     "data": {
      "text/plain": [
       "'echo hisat2:hisat2 ;hisat2 --version'"
      ]
     },
     "execution_count": 8,
     "metadata": {},
     "output_type": "execute_result"
    }
   ],
   "source": [
    "hisat2.cmd_version()"
   ]
  },
  {
   "cell_type": "code",
   "execution_count": 9,
   "metadata": {},
   "outputs": [
    {
     "name": "stdout",
     "output_type": "stream",
     "text": [
      "hisat2-build -p 16 biology-test-data/fasta/Homo_sapiens.GRCh38.dna.primary_assembly.chromosome22.fa  ./pybiotools/hisat2_index\n"
     ]
    }
   ],
   "source": [
    "print(hisat2.cmd_build_index(reference, genome_index_prefix, genome_ss=None, genome_exon=None,\n",
    "                        genome_genotype=None, genome_snp=None))"
   ]
  },
  {
   "cell_type": "code",
   "execution_count": 10,
   "metadata": {},
   "outputs": [
    {
     "name": "stdout",
     "output_type": "stream",
     "text": [
      "awk 'BEGIN{OFS=\"\\t\"} {if($2 ~ /^chr/) {$2 = substr($2, 4)}; if($2 == \"M\") {$2 = \"MT\"} print}' /path/to/snp \\\n",
      "    > ./pybiotools/tmp_snp.tmp\n",
      "hisat2_extract_snps_haplotypes_UCSC.py biology-test-data/fasta/Homo_sapiens.GRCh38.dna.primary_assembly.chromosome22.fa ./pybiotools/tmp_snp.tmp ./pybiotools/tmp\n"
     ]
    }
   ],
   "source": [
    "print(hisat2.cmd_prepare_snp_ucsc(reference,snp_file,prefix))"
   ]
  },
  {
   "cell_type": "code",
   "execution_count": 11,
   "metadata": {},
   "outputs": [
    {
     "name": "stdout",
     "output_type": "stream",
     "text": [
      "hisat2_extract_splice_sites.py biology-test-data/gtf/HS.22.gtf > ./pybiotools/tmp.ss\n",
      "hisat2_extract_exons.py biology-test-data/gtf/HS.22.gtf > ./pybiotools/tmp.exon\n"
     ]
    }
   ],
   "source": [
    "print(hisat2.cmd_prepare_exon_ss(gtf_file,prefix))"
   ]
  },
  {
   "cell_type": "code",
   "execution_count": 12,
   "metadata": {},
   "outputs": [
    {
     "name": "stdout",
     "output_type": "stream",
     "text": [
      "hisat2-build -p 16 biology-test-data/fasta/Homo_sapiens.GRCh38.dna.primary_assembly.chromosome22.fa  --ss ./pybiotools/tmp.ss --exon ./pybiotools/tmp.exon ./pybiotools/hisat2_index_ss_exon\n"
     ]
    }
   ],
   "source": [
    "print(hisat2.cmd_build_index(reference, genome_index_prefix+'_ss_exon', genome_ss=genome_ss, genome_exon=genome_exon,\n",
    "                        genome_genotype=None, genome_snp=None))"
   ]
  },
  {
   "cell_type": "code",
   "execution_count": 13,
   "metadata": {},
   "outputs": [
    {
     "name": "stdout",
     "output_type": "stream",
     "text": [
      "\n",
      "hisat2 --dta -5 10 -3 10 -p 16 -x ./pybiotools/hisat2_index -1 ./biology-test-data/fastq/HS.22.r1.fq.gz -2 ./biology-test-data/fastq/HS.22.r2.fq.gz --summary-file ./pybiotools/pe.summary.txt | samtools view -bSt biology-test-data/fasta/Homo_sapiens.GRCh38.dna.primary_assembly.chromosome22.fa.fai - | samtools sort - -o ./pybiotools/hisat_pe.bam\n",
      "samtools index ./pybiotools/hisat_pe.bam\n",
      " \n",
      "            \n"
     ]
    }
   ],
   "source": [
    "print(hisat2.cmd_align( genome_index_prefix, fq1, fq2, summary_pe, samtools, samtools_idx, outbam_pe))"
   ]
  },
  {
   "cell_type": "code",
   "execution_count": 14,
   "metadata": {},
   "outputs": [
    {
     "name": "stdout",
     "output_type": "stream",
     "text": [
      "\n",
      "hisat2 --dta -5 10 -3 10 -p 16 -x ./pybiotools/hisat2_index -U ./biology-test-data/fastq/HS.22.r1.fq.gz  --summary-file ./pybiotools/se.summary.txt | samtools view -bSt biology-test-data/fasta/Homo_sapiens.GRCh38.dna.primary_assembly.chromosome22.fa.fai - | samtools sort - -o ./pybiotools/hisat_se.bam\n",
      "samtools index ./pybiotools/hisat_se.bam\n",
      " \n",
      "            \n"
     ]
    }
   ],
   "source": [
    "print(hisat2.cmd_align( genome_index_prefix, fq1, '', summary_se, samtools, samtools_idx, outbam_se))"
   ]
  },
  {
   "cell_type": "code",
   "execution_count": null,
   "metadata": {},
   "outputs": [],
   "source": []
  }
 ],
 "metadata": {
  "kernelspec": {
   "display_name": "Python 3",
   "language": "python",
   "name": "python3"
  },
  "language_info": {
   "codemirror_mode": {
    "name": "ipython",
    "version": 3
   },
   "file_extension": ".py",
   "mimetype": "text/x-python",
   "name": "python",
   "nbconvert_exporter": "python",
   "pygments_lexer": "ipython3",
   "version": "3.7.3"
  }
 },
 "nbformat": 4,
 "nbformat_minor": 4
}
